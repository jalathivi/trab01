{
 "cells": [
  {
   "cell_type": "markdown",
   "metadata": {},
   "source": [
    "# Conexão com postgres e Relatorios do Sistema"
   ]
  },
  {
   "cell_type": "markdown",
   "metadata": {},
   "source": [
    "## Instalando biblioteca de acesso com postgres e manipulação de dados e gráficos"
   ]
  },
  {
   "cell_type": "code",
   "execution_count": 1,
   "metadata": {},
   "outputs": [
    {
     "name": "stdout",
     "output_type": "stream",
     "text": [
      "Requirement already satisfied: psycopg2-binary in c:\\users\\pichau\\appdata\\roaming\\python\\python37\\site-packages (2.8.2)\n",
      "Requirement already satisfied: seaborn in c:\\users\\pichau\\anaconda3\\lib\\site-packages (0.9.0)\n",
      "Requirement already satisfied: scipy>=0.14.0 in c:\\users\\pichau\\anaconda3\\lib\\site-packages (from seaborn) (1.2.1)\n",
      "Requirement already satisfied: pandas>=0.15.2 in c:\\users\\pichau\\anaconda3\\lib\\site-packages (from seaborn) (0.24.2)\n",
      "Requirement already satisfied: numpy>=1.9.3 in c:\\users\\pichau\\anaconda3\\lib\\site-packages (from seaborn) (1.16.2)\n",
      "Requirement already satisfied: matplotlib>=1.4.3 in c:\\users\\pichau\\anaconda3\\lib\\site-packages (from seaborn) (3.0.3)\n",
      "Requirement already satisfied: pytz>=2011k in c:\\users\\pichau\\anaconda3\\lib\\site-packages (from pandas>=0.15.2->seaborn) (2018.9)\n",
      "Requirement already satisfied: python-dateutil>=2.5.0 in c:\\users\\pichau\\anaconda3\\lib\\site-packages (from pandas>=0.15.2->seaborn) (2.8.0)\n",
      "Requirement already satisfied: cycler>=0.10 in c:\\users\\pichau\\anaconda3\\lib\\site-packages (from matplotlib>=1.4.3->seaborn) (0.10.0)\n",
      "Requirement already satisfied: kiwisolver>=1.0.1 in c:\\users\\pichau\\anaconda3\\lib\\site-packages (from matplotlib>=1.4.3->seaborn) (1.0.1)\n",
      "Requirement already satisfied: pyparsing!=2.0.4,!=2.1.2,!=2.1.6,>=2.0.1 in c:\\users\\pichau\\anaconda3\\lib\\site-packages (from matplotlib>=1.4.3->seaborn) (2.3.1)\n",
      "Requirement already satisfied: six>=1.5 in c:\\users\\pichau\\anaconda3\\lib\\site-packages (from python-dateutil>=2.5.0->pandas>=0.15.2->seaborn) (1.12.0)\n",
      "Requirement already satisfied: setuptools in c:\\users\\pichau\\anaconda3\\lib\\site-packages (from kiwisolver>=1.0.1->matplotlib>=1.4.3->seaborn) (40.8.0)\n",
      "Requirement already satisfied: pandas in c:\\users\\pichau\\anaconda3\\lib\\site-packages (0.24.2)\n",
      "Requirement already satisfied: python-dateutil>=2.5.0 in c:\\users\\pichau\\anaconda3\\lib\\site-packages (from pandas) (2.8.0)\n",
      "Requirement already satisfied: pytz>=2011k in c:\\users\\pichau\\anaconda3\\lib\\site-packages (from pandas) (2018.9)\n",
      "Requirement already satisfied: numpy>=1.12.0 in c:\\users\\pichau\\anaconda3\\lib\\site-packages (from pandas) (1.16.2)\n",
      "Requirement already satisfied: six>=1.5 in c:\\users\\pichau\\anaconda3\\lib\\site-packages (from python-dateutil>=2.5.0->pandas) (1.12.0)\n"
     ]
    }
   ],
   "source": [
    "!pip install --user psycopg2-binary\n",
    "!pip install --user seaborn\n",
    "!pip install --user pandas"
   ]
  },
  {
   "cell_type": "markdown",
   "metadata": {},
   "source": [
    "### Importando bibliotecas"
   ]
  },
  {
   "cell_type": "code",
   "execution_count": 2,
   "metadata": {},
   "outputs": [],
   "source": [
    "import seaborn as sns\n",
    "import pandas as pd\n",
    "import psycopg2\n",
    "\n",
    "import matplotlib.pyplot as plt; plt.rcdefaults()\n",
    "import numpy as np\n",
    "import matplotlib.pyplot as plt"
   ]
  },
  {
   "cell_type": "markdown",
   "metadata": {},
   "source": [
    "### Usando psycopg2 para configurar conexão"
   ]
  },
  {
   "cell_type": "code",
   "execution_count": 3,
   "metadata": {},
   "outputs": [],
   "source": [
    "conn = psycopg2.connect(host=\"tuffi.db.elephantsql.com\",\n",
    "                        database=\"xubzhvcc\", \n",
    "                        user=\"xubzhvcc\",\n",
    "                        password=\"nXYY2mo9mt1RSIEAMG7F6rYw_ikut3hB\")"
   ]
  },
  {
   "cell_type": "markdown",
   "metadata": {},
   "source": [
    "## Obtendo dados do database com Pandas"
   ]
  },
  {
   "cell_type": "markdown",
   "metadata": {},
   "source": [
    "# Relatório 1"
   ]
  },
  {
   "cell_type": "markdown",
   "metadata": {},
   "source": [
    "### Objetivo: Obter a quantidade de lixo total coletado em determinado bairro em cada rota, evidenciando o caminhão que realizou aquela rota"
   ]
  },
  {
   "cell_type": "markdown",
   "metadata": {},
   "source": [
    "Código para obtenção do resultado:"
   ]
  },
  {
   "cell_type": "code",
   "execution_count": 4,
   "metadata": {},
   "outputs": [],
   "source": [
    "relat1 = pd.read_sql_query(\"\"\"\n",
    "\n",
    "                            SELECT\n",
    "                                BAIRRO.nome as bairro,\n",
    "                                sum(COLETA.volume) AS volumeT_coletado,\n",
    "                                cod_caminhao\n",
    "                            FROM BAIRRO\n",
    "                            INNER JOIN LIXEIRA ON (BAIRRO.cod_bairro = LIXEIRA.cod_bairro)\n",
    "                            INNER JOIN COLETA ON (LIXEIRA.cod_lixeira = COLETA.cod_lixeira)\n",
    "                            GROUP BY BAIRRO.nome, COLETA.cod_caminhao\n",
    "                            ORDER BY volumeT_coletado\n",
    "                            \n",
    "                        \"\"\",conn)"
   ]
  },
  {
   "cell_type": "code",
   "execution_count": 5,
   "metadata": {},
   "outputs": [
    {
     "data": {
      "text/html": [
       "<div>\n",
       "<style scoped>\n",
       "    .dataframe tbody tr th:only-of-type {\n",
       "        vertical-align: middle;\n",
       "    }\n",
       "\n",
       "    .dataframe tbody tr th {\n",
       "        vertical-align: top;\n",
       "    }\n",
       "\n",
       "    .dataframe thead th {\n",
       "        text-align: right;\n",
       "    }\n",
       "</style>\n",
       "<table border=\"1\" class=\"dataframe\">\n",
       "  <thead>\n",
       "    <tr style=\"text-align: right;\">\n",
       "      <th></th>\n",
       "      <th>bairro</th>\n",
       "      <th>volumet_coletado</th>\n",
       "      <th>cod_caminhao</th>\n",
       "    </tr>\n",
       "  </thead>\n",
       "  <tbody>\n",
       "    <tr>\n",
       "      <th>0</th>\n",
       "      <td>Centro de Vitória</td>\n",
       "      <td>90.00</td>\n",
       "      <td>3</td>\n",
       "    </tr>\n",
       "    <tr>\n",
       "      <th>1</th>\n",
       "      <td>Carapina</td>\n",
       "      <td>294.00</td>\n",
       "      <td>1</td>\n",
       "    </tr>\n",
       "    <tr>\n",
       "      <th>2</th>\n",
       "      <td>Porto de Santana</td>\n",
       "      <td>297.00</td>\n",
       "      <td>3</td>\n",
       "    </tr>\n",
       "    <tr>\n",
       "      <th>3</th>\n",
       "      <td>Centro de Vitória</td>\n",
       "      <td>409.50</td>\n",
       "      <td>2</td>\n",
       "    </tr>\n",
       "    <tr>\n",
       "      <th>4</th>\n",
       "      <td>Grande Goiabeiras</td>\n",
       "      <td>500.02</td>\n",
       "      <td>2</td>\n",
       "    </tr>\n",
       "    <tr>\n",
       "      <th>5</th>\n",
       "      <td>Grande Goiabeiras</td>\n",
       "      <td>535.90</td>\n",
       "      <td>1</td>\n",
       "    </tr>\n",
       "    <tr>\n",
       "      <th>6</th>\n",
       "      <td>Colina de Laranjeiras</td>\n",
       "      <td>614.00</td>\n",
       "      <td>3</td>\n",
       "    </tr>\n",
       "  </tbody>\n",
       "</table>\n",
       "</div>"
      ],
      "text/plain": [
       "                  bairro  volumet_coletado  cod_caminhao\n",
       "0      Centro de Vitória             90.00             3\n",
       "1               Carapina            294.00             1\n",
       "2       Porto de Santana            297.00             3\n",
       "3      Centro de Vitória            409.50             2\n",
       "4      Grande Goiabeiras            500.02             2\n",
       "5      Grande Goiabeiras            535.90             1\n",
       "6  Colina de Laranjeiras            614.00             3"
      ]
     },
     "execution_count": 5,
     "metadata": {},
     "output_type": "execute_result"
    }
   ],
   "source": [
    "relat1"
   ]
  },
  {
   "cell_type": "markdown",
   "metadata": {},
   "source": [
    "# Relatório 2"
   ]
  },
  {
   "cell_type": "markdown",
   "metadata": {},
   "source": [
    "### Objetivo: Obter a quantidade de descartes e o volume descartado em determinada lixeira, por dia"
   ]
  },
  {
   "cell_type": "markdown",
   "metadata": {},
   "source": [
    "codigo para obtenção do resultado:"
   ]
  },
  {
   "cell_type": "code",
   "execution_count": 6,
   "metadata": {},
   "outputs": [],
   "source": [
    "relat2 = pd.read_sql_query(\"\"\"\n",
    "\n",
    "                            SELECT\n",
    "                                cod_lixeira,\n",
    "                                count(DESCARTE.cod_lixeira) as qnt_descarte,\n",
    "                                sum(DESCARTE.volume) as volume_total\n",
    "                            FROM DESCARTE\n",
    "                            GROUP BY cod_lixeira, data_descarte\n",
    "                            ORDER BY volume_total DESC\n",
    "                            \n",
    "                            \"\"\", conn)"
   ]
  },
  {
   "cell_type": "code",
   "execution_count": 7,
   "metadata": {},
   "outputs": [
    {
     "data": {
      "text/html": [
       "<div>\n",
       "<style scoped>\n",
       "    .dataframe tbody tr th:only-of-type {\n",
       "        vertical-align: middle;\n",
       "    }\n",
       "\n",
       "    .dataframe tbody tr th {\n",
       "        vertical-align: top;\n",
       "    }\n",
       "\n",
       "    .dataframe thead th {\n",
       "        text-align: right;\n",
       "    }\n",
       "</style>\n",
       "<table border=\"1\" class=\"dataframe\">\n",
       "  <thead>\n",
       "    <tr style=\"text-align: right;\">\n",
       "      <th></th>\n",
       "      <th>cod_lixeira</th>\n",
       "      <th>qnt_descarte</th>\n",
       "      <th>volume_total</th>\n",
       "    </tr>\n",
       "  </thead>\n",
       "  <tbody>\n",
       "    <tr>\n",
       "      <th>0</th>\n",
       "      <td>17</td>\n",
       "      <td>4</td>\n",
       "      <td>296.8</td>\n",
       "    </tr>\n",
       "    <tr>\n",
       "      <th>1</th>\n",
       "      <td>3</td>\n",
       "      <td>4</td>\n",
       "      <td>204.4</td>\n",
       "    </tr>\n",
       "    <tr>\n",
       "      <th>2</th>\n",
       "      <td>10</td>\n",
       "      <td>1</td>\n",
       "      <td>200.0</td>\n",
       "    </tr>\n",
       "    <tr>\n",
       "      <th>3</th>\n",
       "      <td>2</td>\n",
       "      <td>4</td>\n",
       "      <td>194.0</td>\n",
       "    </tr>\n",
       "    <tr>\n",
       "      <th>4</th>\n",
       "      <td>4</td>\n",
       "      <td>3</td>\n",
       "      <td>185.7</td>\n",
       "    </tr>\n",
       "    <tr>\n",
       "      <th>5</th>\n",
       "      <td>16</td>\n",
       "      <td>3</td>\n",
       "      <td>180.0</td>\n",
       "    </tr>\n",
       "    <tr>\n",
       "      <th>6</th>\n",
       "      <td>1</td>\n",
       "      <td>3</td>\n",
       "      <td>144.0</td>\n",
       "    </tr>\n",
       "    <tr>\n",
       "      <th>7</th>\n",
       "      <td>15</td>\n",
       "      <td>3</td>\n",
       "      <td>127.8</td>\n",
       "    </tr>\n",
       "    <tr>\n",
       "      <th>8</th>\n",
       "      <td>9</td>\n",
       "      <td>1</td>\n",
       "      <td>120.0</td>\n",
       "    </tr>\n",
       "    <tr>\n",
       "      <th>9</th>\n",
       "      <td>13</td>\n",
       "      <td>1</td>\n",
       "      <td>110.0</td>\n",
       "    </tr>\n",
       "    <tr>\n",
       "      <th>10</th>\n",
       "      <td>22</td>\n",
       "      <td>3</td>\n",
       "      <td>100.4</td>\n",
       "    </tr>\n",
       "    <tr>\n",
       "      <th>11</th>\n",
       "      <td>14</td>\n",
       "      <td>1</td>\n",
       "      <td>100.0</td>\n",
       "    </tr>\n",
       "    <tr>\n",
       "      <th>12</th>\n",
       "      <td>12</td>\n",
       "      <td>1</td>\n",
       "      <td>96.0</td>\n",
       "    </tr>\n",
       "    <tr>\n",
       "      <th>13</th>\n",
       "      <td>11</td>\n",
       "      <td>1</td>\n",
       "      <td>90.0</td>\n",
       "    </tr>\n",
       "    <tr>\n",
       "      <th>14</th>\n",
       "      <td>4</td>\n",
       "      <td>2</td>\n",
       "      <td>88.2</td>\n",
       "    </tr>\n",
       "    <tr>\n",
       "      <th>15</th>\n",
       "      <td>6</td>\n",
       "      <td>2</td>\n",
       "      <td>82.2</td>\n",
       "    </tr>\n",
       "    <tr>\n",
       "      <th>16</th>\n",
       "      <td>21</td>\n",
       "      <td>3</td>\n",
       "      <td>80.0</td>\n",
       "    </tr>\n",
       "    <tr>\n",
       "      <th>17</th>\n",
       "      <td>1</td>\n",
       "      <td>2</td>\n",
       "      <td>79.4</td>\n",
       "    </tr>\n",
       "    <tr>\n",
       "      <th>18</th>\n",
       "      <td>5</td>\n",
       "      <td>1</td>\n",
       "      <td>70.0</td>\n",
       "    </tr>\n",
       "    <tr>\n",
       "      <th>19</th>\n",
       "      <td>8</td>\n",
       "      <td>1</td>\n",
       "      <td>59.4</td>\n",
       "    </tr>\n",
       "    <tr>\n",
       "      <th>20</th>\n",
       "      <td>23</td>\n",
       "      <td>2</td>\n",
       "      <td>58.3</td>\n",
       "    </tr>\n",
       "    <tr>\n",
       "      <th>21</th>\n",
       "      <td>6</td>\n",
       "      <td>1</td>\n",
       "      <td>40.0</td>\n",
       "    </tr>\n",
       "    <tr>\n",
       "      <th>22</th>\n",
       "      <td>23</td>\n",
       "      <td>1</td>\n",
       "      <td>33.3</td>\n",
       "    </tr>\n",
       "    <tr>\n",
       "      <th>23</th>\n",
       "      <td>7</td>\n",
       "      <td>1</td>\n",
       "      <td>30.1</td>\n",
       "    </tr>\n",
       "    <tr>\n",
       "      <th>24</th>\n",
       "      <td>4</td>\n",
       "      <td>1</td>\n",
       "      <td>27.5</td>\n",
       "    </tr>\n",
       "    <tr>\n",
       "      <th>25</th>\n",
       "      <td>2</td>\n",
       "      <td>1</td>\n",
       "      <td>22.1</td>\n",
       "    </tr>\n",
       "    <tr>\n",
       "      <th>26</th>\n",
       "      <td>21</td>\n",
       "      <td>1</td>\n",
       "      <td>22.0</td>\n",
       "    </tr>\n",
       "    <tr>\n",
       "      <th>27</th>\n",
       "      <td>7</td>\n",
       "      <td>1</td>\n",
       "      <td>21.0</td>\n",
       "    </tr>\n",
       "    <tr>\n",
       "      <th>28</th>\n",
       "      <td>5</td>\n",
       "      <td>1</td>\n",
       "      <td>15.0</td>\n",
       "    </tr>\n",
       "  </tbody>\n",
       "</table>\n",
       "</div>"
      ],
      "text/plain": [
       "    cod_lixeira  qnt_descarte  volume_total\n",
       "0            17             4         296.8\n",
       "1             3             4         204.4\n",
       "2            10             1         200.0\n",
       "3             2             4         194.0\n",
       "4             4             3         185.7\n",
       "5            16             3         180.0\n",
       "6             1             3         144.0\n",
       "7            15             3         127.8\n",
       "8             9             1         120.0\n",
       "9            13             1         110.0\n",
       "10           22             3         100.4\n",
       "11           14             1         100.0\n",
       "12           12             1          96.0\n",
       "13           11             1          90.0\n",
       "14            4             2          88.2\n",
       "15            6             2          82.2\n",
       "16           21             3          80.0\n",
       "17            1             2          79.4\n",
       "18            5             1          70.0\n",
       "19            8             1          59.4\n",
       "20           23             2          58.3\n",
       "21            6             1          40.0\n",
       "22           23             1          33.3\n",
       "23            7             1          30.1\n",
       "24            4             1          27.5\n",
       "25            2             1          22.1\n",
       "26           21             1          22.0\n",
       "27            7             1          21.0\n",
       "28            5             1          15.0"
      ]
     },
     "execution_count": 7,
     "metadata": {},
     "output_type": "execute_result"
    }
   ],
   "source": [
    "relat2"
   ]
  },
  {
   "cell_type": "markdown",
   "metadata": {},
   "source": [
    "## Relatório 3"
   ]
  },
  {
   "cell_type": "markdown",
   "metadata": {},
   "source": [
    "### Objetivo: Mostrar quantas vezes cada caminhão foi alocado, verificar quais estão sendo mais utilizados e os dados (placa, modelo, marca) dos mesmos"
   ]
  },
  {
   "cell_type": "markdown",
   "metadata": {},
   "source": [
    "codigo para obtenção do resultado:"
   ]
  },
  {
   "cell_type": "code",
   "execution_count": 8,
   "metadata": {},
   "outputs": [],
   "source": [
    "relat3 = pd.read_sql_query(\"\"\"\n",
    "\n",
    "                            SELECT\n",
    "                                CAMINHAO.cod_caminhao,\n",
    "                                placa,\n",
    "                                MODELO.nome AS modelo,\n",
    "                                MARCA.nome AS marca,\n",
    "                                count(ALOCA.cod_caminhao) AS qnt_aloca\n",
    "                            FROM CAMINHAO\n",
    "                            INNER JOIN ALOCA ON (CAMINHAO.cod_caminhao = ALOCA.cod_caminhao)\n",
    "                            INNER JOIN MODELO ON (CAMINHAO.cod_modelo = MODELO.cod_modelo)\n",
    "                            INNER JOIN MARCA ON (MODELO.cod_marca = MARCA.cod_marca)\n",
    "                            GROUP BY CAMINHAO.cod_caminhao, ALOCA.cod_caminhao, MODELO.cod_modelo, MARCA.cod_marca\n",
    "                            ORDER BY qnt_aloca DESC\n",
    "                            \n",
    "                            \"\"\",conn)"
   ]
  },
  {
   "cell_type": "code",
   "execution_count": 9,
   "metadata": {},
   "outputs": [
    {
     "data": {
      "text/html": [
       "<div>\n",
       "<style scoped>\n",
       "    .dataframe tbody tr th:only-of-type {\n",
       "        vertical-align: middle;\n",
       "    }\n",
       "\n",
       "    .dataframe tbody tr th {\n",
       "        vertical-align: top;\n",
       "    }\n",
       "\n",
       "    .dataframe thead th {\n",
       "        text-align: right;\n",
       "    }\n",
       "</style>\n",
       "<table border=\"1\" class=\"dataframe\">\n",
       "  <thead>\n",
       "    <tr style=\"text-align: right;\">\n",
       "      <th></th>\n",
       "      <th>cod_caminhao</th>\n",
       "      <th>placa</th>\n",
       "      <th>modelo</th>\n",
       "      <th>marca</th>\n",
       "      <th>qnt_aloca</th>\n",
       "    </tr>\n",
       "  </thead>\n",
       "  <tbody>\n",
       "    <tr>\n",
       "      <th>0</th>\n",
       "      <td>1</td>\n",
       "      <td>MTR3338</td>\n",
       "      <td>2540</td>\n",
       "      <td>Mercedes Benz</td>\n",
       "      <td>2</td>\n",
       "    </tr>\n",
       "    <tr>\n",
       "      <th>1</th>\n",
       "      <td>3</td>\n",
       "      <td>MQZ8687</td>\n",
       "      <td>G 440</td>\n",
       "      <td>Scania</td>\n",
       "      <td>1</td>\n",
       "    </tr>\n",
       "    <tr>\n",
       "      <th>2</th>\n",
       "      <td>2</td>\n",
       "      <td>MTV4311</td>\n",
       "      <td>MB Axor 2036</td>\n",
       "      <td>Mercedes Benz</td>\n",
       "      <td>1</td>\n",
       "    </tr>\n",
       "  </tbody>\n",
       "</table>\n",
       "</div>"
      ],
      "text/plain": [
       "   cod_caminhao    placa        modelo          marca  qnt_aloca\n",
       "0             1  MTR3338          2540  Mercedes Benz          2\n",
       "1             3  MQZ8687         G 440         Scania          1\n",
       "2             2  MTV4311  MB Axor 2036  Mercedes Benz          1"
      ]
     },
     "execution_count": 9,
     "metadata": {},
     "output_type": "execute_result"
    }
   ],
   "source": [
    "relat3"
   ]
  },
  {
   "cell_type": "markdown",
   "metadata": {},
   "source": [
    "## Relatório 4"
   ]
  },
  {
   "cell_type": "markdown",
   "metadata": {},
   "source": [
    "### Objetivo: Verificar quantidade de lixeiras em cada Status Operacional"
   ]
  },
  {
   "cell_type": "markdown",
   "metadata": {},
   "source": [
    "Codigo para obtenção do resultado:"
   ]
  },
  {
   "cell_type": "code",
   "execution_count": 10,
   "metadata": {},
   "outputs": [],
   "source": [
    "relat4 = pd.read_sql_query(\"\"\"\n",
    "\n",
    "                            SELECT \n",
    "                                STATUS.cod_status,\n",
    "                                status.descricao AS situacao_lixeira, \n",
    "                                count(SITUACAO_OPERACIONAL.cod_status) AS contagem\n",
    "                            FROM SITUACAO_OPERACIONAL\n",
    "                            INNER JOIN STATUS ON (SITUACAO_OPERACIONAL.cod_status = STATUS.cod_status)\n",
    "                            GROUP BY (STATUS.cod_status)\n",
    "                            ORDER BY contagem\n",
    "    \n",
    "                            \"\"\",conn)"
   ]
  },
  {
   "cell_type": "code",
   "execution_count": 11,
   "metadata": {},
   "outputs": [
    {
     "data": {
      "text/html": [
       "<div>\n",
       "<style scoped>\n",
       "    .dataframe tbody tr th:only-of-type {\n",
       "        vertical-align: middle;\n",
       "    }\n",
       "\n",
       "    .dataframe tbody tr th {\n",
       "        vertical-align: top;\n",
       "    }\n",
       "\n",
       "    .dataframe thead th {\n",
       "        text-align: right;\n",
       "    }\n",
       "</style>\n",
       "<table border=\"1\" class=\"dataframe\">\n",
       "  <thead>\n",
       "    <tr style=\"text-align: right;\">\n",
       "      <th></th>\n",
       "      <th>cod_status</th>\n",
       "      <th>situacao_lixeira</th>\n",
       "      <th>contagem</th>\n",
       "    </tr>\n",
       "  </thead>\n",
       "  <tbody>\n",
       "    <tr>\n",
       "      <th>0</th>\n",
       "      <td>2</td>\n",
       "      <td>Não atende a demanda</td>\n",
       "      <td>2</td>\n",
       "    </tr>\n",
       "    <tr>\n",
       "      <th>1</th>\n",
       "      <td>1</td>\n",
       "      <td>Quebrada</td>\n",
       "      <td>4</td>\n",
       "    </tr>\n",
       "  </tbody>\n",
       "</table>\n",
       "</div>"
      ],
      "text/plain": [
       "   cod_status      situacao_lixeira  contagem\n",
       "0           2  Não atende a demanda         2\n",
       "1           1              Quebrada         4"
      ]
     },
     "execution_count": 11,
     "metadata": {},
     "output_type": "execute_result"
    }
   ],
   "source": [
    "relat4"
   ]
  },
  {
   "cell_type": "code",
   "execution_count": 12,
   "metadata": {},
   "outputs": [
    {
     "data": {
      "image/png": "[encoded data removed]",
      "text/plain": [
       "<Figure size 432x288 with 1 Axes>"
      ]
     },
     "metadata": {
      "needs_background": "light"
     },
     "output_type": "display_data"
    }
   ],
   "source": [
    "df = pd.DataFrame(relat4)\n",
    "cm = sns.light_palette(\"blue\", as_cmap=True)\n",
    "df.style.background_gradient(cmap=cm)\n",
    " \n",
    "objects = tuple(df.situacao_lixeira)\n",
    "y_pos = np.arange(len(objects))\n",
    "performance = list(df.contagem)\n",
    " \n",
    "plt.bar(y_pos, performance, align='center', alpha=0.5)\n",
    "plt.xticks(y_pos, objects)\n",
    "plt.ylabel('Quantidade de Lixeiras')\n",
    "plt.title('Status Operacional')\n",
    "\n",
    "plt.show()"
   ]
  },
  {
   "cell_type": "markdown",
   "metadata": {},
   "source": [
    "## Relatório 5"
   ]
  },
  {
   "cell_type": "markdown",
   "metadata": {},
   "source": [
    "### Objetivo: Verificar quais lixeiras se encontram quebradas, para eventual troca, mostrando o código da lixeira, o bairro onde se encontra e suas coordenadas geográficas"
   ]
  },
  {
   "cell_type": "markdown",
   "metadata": {},
   "source": [
    "Codigo para obtenção do resultado:"
   ]
  },
  {
   "cell_type": "code",
   "execution_count": 13,
   "metadata": {},
   "outputs": [],
   "source": [
    "relat5 = pd.read_sql_query(\"\"\"\n",
    "\n",
    "                            SELECT \n",
    "                                LIXEIRA.cod_lixeira,\n",
    "                                BAIRRO.nome,\n",
    "                                latitude,\n",
    "                                longitude\n",
    "                            FROM SITUACAO_OPERACIONAL\n",
    "                            INNER JOIN STATUS ON (SITUACAO_OPERACIONAL.cod_status = STATUS.cod_status)\n",
    "                            INNER JOIN COLETA ON (SITUACAO_OPERACIONAL.cod_coleta = COLETA.cod_coleta)\n",
    "                            INNER JOIN LIXEIRA ON (COLETA.cod_lixeira = LIXEIRA.cod_lixeira)\n",
    "                            INNER JOIN BAIRRO ON (LIXEIRA.cod_bairro = BAIRRO.cod_bairro)\n",
    "                            WHERE STATUS.descricao = 'Quebrada'\n",
    "                            \n",
    "                            \"\"\",conn)"
   ]
  },
  {
   "cell_type": "code",
   "execution_count": 14,
   "metadata": {},
   "outputs": [
    {
     "data": {
      "text/html": [
       "<div>\n",
       "<style scoped>\n",
       "    .dataframe tbody tr th:only-of-type {\n",
       "        vertical-align: middle;\n",
       "    }\n",
       "\n",
       "    .dataframe tbody tr th {\n",
       "        vertical-align: top;\n",
       "    }\n",
       "\n",
       "    .dataframe thead th {\n",
       "        text-align: right;\n",
       "    }\n",
       "</style>\n",
       "<table border=\"1\" class=\"dataframe\">\n",
       "  <thead>\n",
       "    <tr style=\"text-align: right;\">\n",
       "      <th></th>\n",
       "      <th>cod_lixeira</th>\n",
       "      <th>nome</th>\n",
       "      <th>latitude</th>\n",
       "      <th>longitude</th>\n",
       "    </tr>\n",
       "  </thead>\n",
       "  <tbody>\n",
       "    <tr>\n",
       "      <th>0</th>\n",
       "      <td>9</td>\n",
       "      <td>Centro de Vitória</td>\n",
       "      <td>-20.196950</td>\n",
       "      <td>-40.251233</td>\n",
       "    </tr>\n",
       "    <tr>\n",
       "      <th>1</th>\n",
       "      <td>10</td>\n",
       "      <td>Centro de Vitória</td>\n",
       "      <td>-20.196958</td>\n",
       "      <td>-40.252933</td>\n",
       "    </tr>\n",
       "    <tr>\n",
       "      <th>2</th>\n",
       "      <td>13</td>\n",
       "      <td>Colina de Laranjeiras</td>\n",
       "      <td>-20.193958</td>\n",
       "      <td>-40.193958</td>\n",
       "    </tr>\n",
       "    <tr>\n",
       "      <th>3</th>\n",
       "      <td>14</td>\n",
       "      <td>Colina de Laranjeiras</td>\n",
       "      <td>-20.196958</td>\n",
       "      <td>-40.196958</td>\n",
       "    </tr>\n",
       "  </tbody>\n",
       "</table>\n",
       "</div>"
      ],
      "text/plain": [
       "   cod_lixeira                   nome   latitude  longitude\n",
       "0            9      Centro de Vitória -20.196950 -40.251233\n",
       "1           10      Centro de Vitória -20.196958 -40.252933\n",
       "2           13  Colina de Laranjeiras -20.193958 -40.193958\n",
       "3           14  Colina de Laranjeiras -20.196958 -40.196958"
      ]
     },
     "execution_count": 14,
     "metadata": {},
     "output_type": "execute_result"
    }
   ],
   "source": [
    "relat5"
   ]
  },
  {
   "cell_type": "markdown",
   "metadata": {},
   "source": [
    "# Referencias"
   ]
  },
  {
   "cell_type": "markdown",
   "metadata": {},
   "source": [
    "https://pandas.pydata.org/pandas-docs/stable/style.html <br>\n",
    "https://pythonspot.com/matplotlib-bar-chart/<br>\n",
    "https://pandas.pydata.org/pandas-docs/stable/generated/pandas.DataFrame.loc.html <br>"
   ]
  }
 ],
 "metadata": {
  "kernelspec": {
   "display_name": "Python 3",
   "language": "python",
   "name": "python3"
  },
  "language_info": {
   "codemirror_mode": {
    "name": "ipython",
    "version": 3
   },
   "file_extension": ".py",
   "mimetype": "text/x-python",
   "name": "python",
   "nbconvert_exporter": "python",
   "pygments_lexer": "ipython3",
   "version": "3.7.3"
  }
 },
 "nbformat": 4,
 "nbformat_minor": 2
}
