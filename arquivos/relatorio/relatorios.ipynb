{
  "nbformat": 4,
  "nbformat_minor": 0,
  "metadata": {
    "colab": {
      "name": "relatorios.ipynb",
      "version": "0.3.2",
      "provenance": [],
      "collapsed_sections": []
    },
    "language_info": {
      "codemirror_mode": {
        "name": "ipython",
        "version": 3
      },
      "file_extension": ".py",
      "mimetype": "text/x-python",
      "name": "python",
      "nbconvert_exporter": "python",
      "pygments_lexer": "ipython3",
      "version": "3.7.3"
    },
    "kernelspec": {
      "display_name": "Python 3",
      "language": "python",
      "name": "python3"
    }
  },
  "cells": [
    {
      "cell_type": "markdown",
      "metadata": {
        "id": "XUxBRubSctII",
        "colab_type": "text"
      },
      "source": [
        "# Conexão com postgres e Relatórios do Sistema"
      ]
    },
    {
      "cell_type": "markdown",
      "metadata": {
        "id": "4g_Pqn73ctIK",
        "colab_type": "text"
      },
      "source": [
        "## Instalando biblioteca de acesso com postgres e manipulação de dados e gráficos"
      ]
    },
    {
      "cell_type": "code",
      "metadata": {
        "id": "24IH8tXmctIL",
        "colab_type": "code",
        "outputId": "001c4c3e-fa7e-4224-fa1e-e59c67bec38b",
        "colab": {
          "base_uri": "https://localhost:8080/",
          "height": 407
        }
      },
      "source": [
        "!pip install --user psycopg2-binary\n",
        "!pip install --user seaborn\n",
        "!pip install --user pandas"
      ],
      "execution_count": 1,
      "outputs": [
        {
          "output_type": "stream",
          "text": [
            "Collecting psycopg2-binary\n",
            "\u001b[?25l  Downloading https://files.pythonhosted.org/packages/b1/35/75c9c2d9cfc073ab6c42b2d8e91ff58c9b99f4ed7ed56b36647642e6080e/psycopg2_binary-2.8.3-cp36-cp36m-manylinux1_x86_64.whl (2.9MB)\n",
            "\u001b[K     |████████████████████████████████| 2.9MB 4.9MB/s \n",
            "\u001b[?25hInstalling collected packages: psycopg2-binary\n",
            "Successfully installed psycopg2-binary-2.8.3\n",
            "Requirement already satisfied: seaborn in /usr/local/lib/python3.6/dist-packages (0.9.0)\n",
            "Requirement already satisfied: pandas>=0.15.2 in /usr/local/lib/python3.6/dist-packages (from seaborn) (0.24.2)\n",
            "Requirement already satisfied: numpy>=1.9.3 in /usr/local/lib/python3.6/dist-packages (from seaborn) (1.16.4)\n",
            "Requirement already satisfied: scipy>=0.14.0 in /usr/local/lib/python3.6/dist-packages (from seaborn) (1.3.0)\n",
            "Requirement already satisfied: matplotlib>=1.4.3 in /usr/local/lib/python3.6/dist-packages (from seaborn) (3.0.3)\n",
            "Requirement already satisfied: pytz>=2011k in /usr/local/lib/python3.6/dist-packages (from pandas>=0.15.2->seaborn) (2018.9)\n",
            "Requirement already satisfied: python-dateutil>=2.5.0 in /usr/local/lib/python3.6/dist-packages (from pandas>=0.15.2->seaborn) (2.5.3)\n",
            "Requirement already satisfied: cycler>=0.10 in /usr/local/lib/python3.6/dist-packages (from matplotlib>=1.4.3->seaborn) (0.10.0)\n",
            "Requirement already satisfied: kiwisolver>=1.0.1 in /usr/local/lib/python3.6/dist-packages (from matplotlib>=1.4.3->seaborn) (1.1.0)\n",
            "Requirement already satisfied: pyparsing!=2.0.4,!=2.1.2,!=2.1.6,>=2.0.1 in /usr/local/lib/python3.6/dist-packages (from matplotlib>=1.4.3->seaborn) (2.4.0)\n",
            "Requirement already satisfied: six>=1.5 in /usr/local/lib/python3.6/dist-packages (from python-dateutil>=2.5.0->pandas>=0.15.2->seaborn) (1.12.0)\n",
            "Requirement already satisfied: setuptools in /usr/local/lib/python3.6/dist-packages (from kiwisolver>=1.0.1->matplotlib>=1.4.3->seaborn) (41.0.1)\n",
            "Requirement already satisfied: pandas in /usr/local/lib/python3.6/dist-packages (0.24.2)\n",
            "Requirement already satisfied: python-dateutil>=2.5.0 in /usr/local/lib/python3.6/dist-packages (from pandas) (2.5.3)\n",
            "Requirement already satisfied: numpy>=1.12.0 in /usr/local/lib/python3.6/dist-packages (from pandas) (1.16.4)\n",
            "Requirement already satisfied: pytz>=2011k in /usr/local/lib/python3.6/dist-packages (from pandas) (2018.9)\n",
            "Requirement already satisfied: six>=1.5 in /usr/local/lib/python3.6/dist-packages (from python-dateutil>=2.5.0->pandas) (1.12.0)\n"
          ],
          "name": "stdout"
        }
      ]
    },
    {
      "cell_type": "markdown",
      "metadata": {
        "id": "xecr2WkLctIR",
        "colab_type": "text"
      },
      "source": [
        "### Importando bibliotecas"
      ]
    },
    {
      "cell_type": "code",
      "metadata": {
        "id": "k6r6rPk1ctIS",
        "colab_type": "code",
        "colab": {}
      },
      "source": [
        "import seaborn as sns\n",
        "import pandas as pd\n",
        "import psycopg2\n",
        "\n",
        "import matplotlib.pyplot as plt; plt.rcdefaults()\n",
        "import numpy as np\n",
        "import matplotlib.pyplot as plt"
      ],
      "execution_count": 0,
      "outputs": []
    },
    {
      "cell_type": "markdown",
      "metadata": {
        "id": "edeaini5ctIY",
        "colab_type": "text"
      },
      "source": [
        "### Usando psycopg2 para configurar conexão"
      ]
    },
    {
      "cell_type": "code",
      "metadata": {
        "id": "3HTgmcNZctIZ",
        "colab_type": "code",
        "colab": {}
      },
      "source": [
        "conn = psycopg2.connect(host=\"tuffi.db.elephantsql.com\",\n",
        "                        database=\"xubzhvcc\", \n",
        "                        user=\"xubzhvcc\",\n",
        "                        password=\"nXYY2mo9mt1RSIEAMG7F6rYw_ikut3hB\")"
      ],
      "execution_count": 0,
      "outputs": []
    },
    {
      "cell_type": "markdown",
      "metadata": {
        "id": "9huT5MJBctIb",
        "colab_type": "text"
      },
      "source": [
        "# Relatório 1"
      ]
    },
    {
      "cell_type": "markdown",
      "metadata": {
        "id": "YBaJhexqctIc",
        "colab_type": "text"
      },
      "source": [
        "### Objetivo: Obter a quantidade de lixo total coletado em determinado bairro em cada rota, evidenciando o caminhão que realizou aquela rota"
      ]
    },
    {
      "cell_type": "markdown",
      "metadata": {
        "id": "McWkcpCUctId",
        "colab_type": "text"
      },
      "source": [
        "Código para obtenção do resultado:"
      ]
    },
    {
      "cell_type": "code",
      "metadata": {
        "id": "fWkR_gLPctId",
        "colab_type": "code",
        "colab": {}
      },
      "source": [
        "relat1 = pd.read_sql_query(\"\"\"\n",
        "\n",
        "                            SELECT\n",
        "                              BAIRRO.nome as bairro,\n",
        "                              sum(COLETA.volume) AS volumeT_coletado,\n",
        "                              placa\n",
        "                            FROM BAIRRO\n",
        "                            INNER JOIN LIXEIRA ON (BAIRRO.cod_bairro = LIXEIRA.cod_bairro)\n",
        "                            INNER JOIN COLETA ON (LIXEIRA.cod_lixeira = COLETA.cod_lixeira)\n",
        "                            INNER jOIN CAMINHAO ON (CAMINHAO.cod_caminhao = COLETA.cod_caminhao)\n",
        "                            GROUP BY BAIRRO.nome, COLETA.cod_caminhao, CAMINHAO.placa\n",
        "                            ORDER BY volumeT_coletado\n",
        "                            \n",
        "                             \"\"\",conn)"
      ],
      "execution_count": 0,
      "outputs": []
    },
    {
      "cell_type": "code",
      "metadata": {
        "id": "rt75itcvctIg",
        "colab_type": "code",
        "outputId": "3482055c-19cf-4db4-aab8-0c39a607ca15",
        "colab": {
          "base_uri": "https://localhost:8080/",
          "height": 257
        }
      },
      "source": [
        "relat1"
      ],
      "execution_count": 9,
      "outputs": [
        {
          "output_type": "execute_result",
          "data": {
            "text/html": [
              "<div>\n",
              "<style scoped>\n",
              "    .dataframe tbody tr th:only-of-type {\n",
              "        vertical-align: middle;\n",
              "    }\n",
              "\n",
              "    .dataframe tbody tr th {\n",
              "        vertical-align: top;\n",
              "    }\n",
              "\n",
              "    .dataframe thead th {\n",
              "        text-align: right;\n",
              "    }\n",
              "</style>\n",
              "<table border=\"1\" class=\"dataframe\">\n",
              "  <thead>\n",
              "    <tr style=\"text-align: right;\">\n",
              "      <th></th>\n",
              "      <th>bairro</th>\n",
              "      <th>volumet_coletado</th>\n",
              "      <th>placa</th>\n",
              "    </tr>\n",
              "  </thead>\n",
              "  <tbody>\n",
              "    <tr>\n",
              "      <th>0</th>\n",
              "      <td>Centro de Vitória</td>\n",
              "      <td>90.00</td>\n",
              "      <td>MQZ8687</td>\n",
              "    </tr>\n",
              "    <tr>\n",
              "      <th>1</th>\n",
              "      <td>Carapina</td>\n",
              "      <td>294.00</td>\n",
              "      <td>MTR3338</td>\n",
              "    </tr>\n",
              "    <tr>\n",
              "      <th>2</th>\n",
              "      <td>Porto de Santana</td>\n",
              "      <td>297.00</td>\n",
              "      <td>MQZ8687</td>\n",
              "    </tr>\n",
              "    <tr>\n",
              "      <th>3</th>\n",
              "      <td>Centro de Vitória</td>\n",
              "      <td>409.50</td>\n",
              "      <td>MTV4311</td>\n",
              "    </tr>\n",
              "    <tr>\n",
              "      <th>4</th>\n",
              "      <td>Grande Goiabeiras</td>\n",
              "      <td>500.02</td>\n",
              "      <td>MTV4311</td>\n",
              "    </tr>\n",
              "    <tr>\n",
              "      <th>5</th>\n",
              "      <td>Grande Goiabeiras</td>\n",
              "      <td>535.90</td>\n",
              "      <td>MTR3338</td>\n",
              "    </tr>\n",
              "    <tr>\n",
              "      <th>6</th>\n",
              "      <td>Colina de Laranjeiras</td>\n",
              "      <td>614.00</td>\n",
              "      <td>MQZ8687</td>\n",
              "    </tr>\n",
              "  </tbody>\n",
              "</table>\n",
              "</div>"
            ],
            "text/plain": [
              "                  bairro  volumet_coletado    placa\n",
              "0      Centro de Vitória             90.00  MQZ8687\n",
              "1               Carapina            294.00  MTR3338\n",
              "2       Porto de Santana            297.00  MQZ8687\n",
              "3      Centro de Vitória            409.50  MTV4311\n",
              "4      Grande Goiabeiras            500.02  MTV4311\n",
              "5      Grande Goiabeiras            535.90  MTR3338\n",
              "6  Colina de Laranjeiras            614.00  MQZ8687"
            ]
          },
          "metadata": {
            "tags": []
          },
          "execution_count": 9
        }
      ]
    },
    {
      "cell_type": "code",
      "metadata": {
        "id": "g4D7wHwpb9JA",
        "colab_type": "code",
        "outputId": "de01152f-fe73-4b2b-ace1-fcc3894e7269",
        "colab": {
          "base_uri": "https://localhost:8080/",
          "height": 523
        }
      },
      "source": [
        "df = relat1\n",
        "sns.catplot(x=\"volumet_coletado\", y=\"bairro\", col=\"placa\",\n",
        "                data=df, saturation=.5,\n",
        "                kind=\"bar\", ci=None, aspect=.8, palette= \"husl\")\n",
        "\n",
        "      "
      ],
      "execution_count": 55,
      "outputs": [
        {
          "output_type": "execute_result",
          "data": {
            "text/plain": [
              "<seaborn.axisgrid.FacetGrid at 0x7fed15f50898>"
            ]
          },
          "metadata": {
            "tags": []
          },
          "execution_count": 55
        },
        {
          "output_type": "display_data",
          "data": {
            "image/png": "[encoded data removed]",
            "text/plain": [
              "<Figure size 1200x500 with 3 Axes>"
            ]
          },
          "metadata": {
            "tags": []
          }
        }
      ]
    },
    {
      "cell_type": "markdown",
      "metadata": {
        "id": "jbCS5UtLctIn",
        "colab_type": "text"
      },
      "source": [
        "# Relatório 2"
      ]
    },
    {
      "cell_type": "markdown",
      "metadata": {
        "id": "TPR783oRctIp",
        "colab_type": "text"
      },
      "source": [
        "### Objetivo: Obter a quantidade de descartes e o volume descartado em determinada lixeira, por dia"
      ]
    },
    {
      "cell_type": "markdown",
      "metadata": {
        "id": "eSGcHP80ctIq",
        "colab_type": "text"
      },
      "source": [
        "Código para obtenção do resultado:"
      ]
    },
    {
      "cell_type": "code",
      "metadata": {
        "id": "Ow0phuT-ctIr",
        "colab_type": "code",
        "colab": {}
      },
      "source": [
        "relat2 = pd.read_sql_query(\"\"\"\n",
        "                            SELECT\n",
        "                              bairro.nome as bairro,\n",
        "                              count(DESCARTE.cod_lixeira) as qnt_descarte,\n",
        "                              sum(DESCARTE.volume) as volume_total\n",
        "                              FROM descarte\n",
        "                              INNER JOIN lixeira ON (descarte.cod_lixeira = lixeira.cod_lixeira)\n",
        "                              INNER JOIN bairro ON (lixeira.cod_bairro = bairro.cod_bairro)\n",
        "                              GROUP BY cod_bairro, data_descarte\n",
        "                              ORDER BY volume_total DESC\n",
        "                            \n",
        "                            \"\"\", conn)"
      ],
      "execution_count": 0,
      "outputs": []
    },
    {
      "cell_type": "code",
      "metadata": {
        "id": "aI_8-FNwctIu",
        "colab_type": "code",
        "outputId": "cbacbe04-0154-4ac7-e394-da1a50ab4473",
        "colab": {
          "base_uri": "https://localhost:8080/",
          "height": 1217
        }
      },
      "source": [
        "relat2"
      ],
      "execution_count": 0,
      "outputs": [
        {
          "output_type": "execute_result",
          "data": {
            "text/html": [
              "<div>\n",
              "<style scoped>\n",
              "    .dataframe tbody tr th:only-of-type {\n",
              "        vertical-align: middle;\n",
              "    }\n",
              "\n",
              "    .dataframe tbody tr th {\n",
              "        vertical-align: top;\n",
              "    }\n",
              "\n",
              "    .dataframe thead th {\n",
              "        text-align: right;\n",
              "    }\n",
              "</style>\n",
              "<table border=\"1\" class=\"dataframe\">\n",
              "  <thead>\n",
              "    <tr style=\"text-align: right;\">\n",
              "      <th></th>\n",
              "      <th>cod_lixeira</th>\n",
              "      <th>qnt_descarte</th>\n",
              "      <th>volume_total</th>\n",
              "    </tr>\n",
              "  </thead>\n",
              "  <tbody>\n",
              "    <tr>\n",
              "      <th>0</th>\n",
              "      <td>17</td>\n",
              "      <td>4</td>\n",
              "      <td>296.8</td>\n",
              "    </tr>\n",
              "    <tr>\n",
              "      <th>1</th>\n",
              "      <td>3</td>\n",
              "      <td>4</td>\n",
              "      <td>204.4</td>\n",
              "    </tr>\n",
              "    <tr>\n",
              "      <th>2</th>\n",
              "      <td>10</td>\n",
              "      <td>1</td>\n",
              "      <td>200.0</td>\n",
              "    </tr>\n",
              "    <tr>\n",
              "      <th>3</th>\n",
              "      <td>2</td>\n",
              "      <td>4</td>\n",
              "      <td>194.0</td>\n",
              "    </tr>\n",
              "    <tr>\n",
              "      <th>4</th>\n",
              "      <td>4</td>\n",
              "      <td>3</td>\n",
              "      <td>185.7</td>\n",
              "    </tr>\n",
              "    <tr>\n",
              "      <th>5</th>\n",
              "      <td>16</td>\n",
              "      <td>3</td>\n",
              "      <td>180.0</td>\n",
              "    </tr>\n",
              "    <tr>\n",
              "      <th>6</th>\n",
              "      <td>1</td>\n",
              "      <td>3</td>\n",
              "      <td>144.0</td>\n",
              "    </tr>\n",
              "    <tr>\n",
              "      <th>7</th>\n",
              "      <td>15</td>\n",
              "      <td>3</td>\n",
              "      <td>127.8</td>\n",
              "    </tr>\n",
              "    <tr>\n",
              "      <th>8</th>\n",
              "      <td>9</td>\n",
              "      <td>1</td>\n",
              "      <td>120.0</td>\n",
              "    </tr>\n",
              "    <tr>\n",
              "      <th>9</th>\n",
              "      <td>13</td>\n",
              "      <td>1</td>\n",
              "      <td>110.0</td>\n",
              "    </tr>\n",
              "    <tr>\n",
              "      <th>10</th>\n",
              "      <td>22</td>\n",
              "      <td>3</td>\n",
              "      <td>100.4</td>\n",
              "    </tr>\n",
              "    <tr>\n",
              "      <th>11</th>\n",
              "      <td>14</td>\n",
              "      <td>1</td>\n",
              "      <td>100.0</td>\n",
              "    </tr>\n",
              "    <tr>\n",
              "      <th>12</th>\n",
              "      <td>12</td>\n",
              "      <td>1</td>\n",
              "      <td>96.0</td>\n",
              "    </tr>\n",
              "    <tr>\n",
              "      <th>13</th>\n",
              "      <td>11</td>\n",
              "      <td>1</td>\n",
              "      <td>90.0</td>\n",
              "    </tr>\n",
              "    <tr>\n",
              "      <th>14</th>\n",
              "      <td>4</td>\n",
              "      <td>2</td>\n",
              "      <td>88.2</td>\n",
              "    </tr>\n",
              "    <tr>\n",
              "      <th>15</th>\n",
              "      <td>6</td>\n",
              "      <td>2</td>\n",
              "      <td>82.2</td>\n",
              "    </tr>\n",
              "    <tr>\n",
              "      <th>16</th>\n",
              "      <td>21</td>\n",
              "      <td>3</td>\n",
              "      <td>80.0</td>\n",
              "    </tr>\n",
              "    <tr>\n",
              "      <th>17</th>\n",
              "      <td>1</td>\n",
              "      <td>2</td>\n",
              "      <td>79.4</td>\n",
              "    </tr>\n",
              "    <tr>\n",
              "      <th>18</th>\n",
              "      <td>5</td>\n",
              "      <td>1</td>\n",
              "      <td>70.0</td>\n",
              "    </tr>\n",
              "    <tr>\n",
              "      <th>19</th>\n",
              "      <td>12</td>\n",
              "      <td>1</td>\n",
              "      <td>65.0</td>\n",
              "    </tr>\n",
              "    <tr>\n",
              "      <th>20</th>\n",
              "      <td>8</td>\n",
              "      <td>1</td>\n",
              "      <td>59.4</td>\n",
              "    </tr>\n",
              "    <tr>\n",
              "      <th>21</th>\n",
              "      <td>23</td>\n",
              "      <td>2</td>\n",
              "      <td>58.3</td>\n",
              "    </tr>\n",
              "    <tr>\n",
              "      <th>22</th>\n",
              "      <td>6</td>\n",
              "      <td>1</td>\n",
              "      <td>40.0</td>\n",
              "    </tr>\n",
              "    <tr>\n",
              "      <th>23</th>\n",
              "      <td>23</td>\n",
              "      <td>1</td>\n",
              "      <td>33.3</td>\n",
              "    </tr>\n",
              "    <tr>\n",
              "      <th>24</th>\n",
              "      <td>7</td>\n",
              "      <td>1</td>\n",
              "      <td>30.1</td>\n",
              "    </tr>\n",
              "    <tr>\n",
              "      <th>25</th>\n",
              "      <td>4</td>\n",
              "      <td>1</td>\n",
              "      <td>27.5</td>\n",
              "    </tr>\n",
              "    <tr>\n",
              "      <th>26</th>\n",
              "      <td>2</td>\n",
              "      <td>2</td>\n",
              "      <td>26.0</td>\n",
              "    </tr>\n",
              "    <tr>\n",
              "      <th>27</th>\n",
              "      <td>2</td>\n",
              "      <td>1</td>\n",
              "      <td>22.1</td>\n",
              "    </tr>\n",
              "    <tr>\n",
              "      <th>28</th>\n",
              "      <td>21</td>\n",
              "      <td>1</td>\n",
              "      <td>22.0</td>\n",
              "    </tr>\n",
              "    <tr>\n",
              "      <th>29</th>\n",
              "      <td>3</td>\n",
              "      <td>2</td>\n",
              "      <td>21.2</td>\n",
              "    </tr>\n",
              "    <tr>\n",
              "      <th>30</th>\n",
              "      <td>7</td>\n",
              "      <td>1</td>\n",
              "      <td>21.0</td>\n",
              "    </tr>\n",
              "    <tr>\n",
              "      <th>31</th>\n",
              "      <td>3</td>\n",
              "      <td>1</td>\n",
              "      <td>20.0</td>\n",
              "    </tr>\n",
              "    <tr>\n",
              "      <th>32</th>\n",
              "      <td>1</td>\n",
              "      <td>1</td>\n",
              "      <td>18.0</td>\n",
              "    </tr>\n",
              "    <tr>\n",
              "      <th>33</th>\n",
              "      <td>7</td>\n",
              "      <td>1</td>\n",
              "      <td>16.0</td>\n",
              "    </tr>\n",
              "    <tr>\n",
              "      <th>34</th>\n",
              "      <td>17</td>\n",
              "      <td>1</td>\n",
              "      <td>15.1</td>\n",
              "    </tr>\n",
              "    <tr>\n",
              "      <th>35</th>\n",
              "      <td>5</td>\n",
              "      <td>1</td>\n",
              "      <td>15.0</td>\n",
              "    </tr>\n",
              "    <tr>\n",
              "      <th>36</th>\n",
              "      <td>16</td>\n",
              "      <td>1</td>\n",
              "      <td>14.0</td>\n",
              "    </tr>\n",
              "    <tr>\n",
              "      <th>37</th>\n",
              "      <td>2</td>\n",
              "      <td>1</td>\n",
              "      <td>8.9</td>\n",
              "    </tr>\n",
              "    <tr>\n",
              "      <th>38</th>\n",
              "      <td>22</td>\n",
              "      <td>1</td>\n",
              "      <td>5.1</td>\n",
              "    </tr>\n",
              "  </tbody>\n",
              "</table>\n",
              "</div>"
            ],
            "text/plain": [
              "    cod_lixeira  qnt_descarte  volume_total\n",
              "0            17             4         296.8\n",
              "1             3             4         204.4\n",
              "2            10             1         200.0\n",
              "3             2             4         194.0\n",
              "4             4             3         185.7\n",
              "5            16             3         180.0\n",
              "6             1             3         144.0\n",
              "7            15             3         127.8\n",
              "8             9             1         120.0\n",
              "9            13             1         110.0\n",
              "10           22             3         100.4\n",
              "11           14             1         100.0\n",
              "12           12             1          96.0\n",
              "13           11             1          90.0\n",
              "14            4             2          88.2\n",
              "15            6             2          82.2\n",
              "16           21             3          80.0\n",
              "17            1             2          79.4\n",
              "18            5             1          70.0\n",
              "19           12             1          65.0\n",
              "20            8             1          59.4\n",
              "21           23             2          58.3\n",
              "22            6             1          40.0\n",
              "23           23             1          33.3\n",
              "24            7             1          30.1\n",
              "25            4             1          27.5\n",
              "26            2             2          26.0\n",
              "27            2             1          22.1\n",
              "28           21             1          22.0\n",
              "29            3             2          21.2\n",
              "30            7             1          21.0\n",
              "31            3             1          20.0\n",
              "32            1             1          18.0\n",
              "33            7             1          16.0\n",
              "34           17             1          15.1\n",
              "35            5             1          15.0\n",
              "36           16             1          14.0\n",
              "37            2             1           8.9\n",
              "38           22             1           5.1"
            ]
          },
          "metadata": {
            "tags": []
          },
          "execution_count": 38
        }
      ]
    },
    {
      "cell_type": "code",
      "metadata": {
        "id": "WFt1OehjdKJQ",
        "colab_type": "code",
        "outputId": "8b973bf6-973d-4084-a2e7-e656ab62da32",
        "colab": {
          "base_uri": "https://localhost:8080/",
          "height": 470
        }
      },
      "source": [
        "df = relat2\n",
        "sns.distplot(df.volume_total, color = \"Blue\")"
      ],
      "execution_count": 0,
      "outputs": [
        {
          "output_type": "execute_result",
          "data": {
            "text/plain": [
              "<matplotlib.axes._subplots.AxesSubplot at 0x7f30f0d684a8>"
            ]
          },
          "metadata": {
            "tags": []
          },
          "execution_count": 180
        },
        {
          "output_type": "display_data",
          "data": {
            "image/png": "[encoded data removed]",
            "text/plain": [
              "<Figure size 640x480 with 1 Axes>"
            ]
          },
          "metadata": {
            "tags": []
          }
        }
      ]
    },
    {
      "cell_type": "markdown",
      "metadata": {
        "id": "n9XUNheVpwJ6",
        "colab_type": "text"
      },
      "source": [
        "####Pelo grafico de destribuição dos volumes diários de descarte. É perceptivel que uma lixeira normalmente recebe um volume na faixa de 20 a 80 litros por dia."
      ]
    },
    {
      "cell_type": "markdown",
      "metadata": {
        "id": "c8aV2I7E9FR-",
        "colab_type": "text"
      },
      "source": [
        "#Relatório 3 "
      ]
    },
    {
      "cell_type": "markdown",
      "metadata": {
        "id": "R1IxxtLx9Kjc",
        "colab_type": "text"
      },
      "source": [
        "###Objetivo: Identificar a quantidade de operações de descarte e o volume total descartado por bairro.\n"
      ]
    },
    {
      "cell_type": "code",
      "metadata": {
        "id": "1RDeKZ0S9Oph",
        "colab_type": "code",
        "colab": {}
      },
      "source": [
        "relat3 = pd.read_sql_query(\"\"\"\n",
        "                            SELECT\n",
        "                              bairro.nome as bairro,\n",
        "                              count(DESCARTE.cod_lixeira) as qnt_descarte,\n",
        "                              sum(DESCARTE.volume) as volume_total\n",
        "                              FROM descarte\n",
        "                              INNER JOIN lixeira ON (descarte.cod_lixeira = lixeira.cod_lixeira)\n",
        "                              INNER JOIN bairro ON (lixeira.cod_bairro = bairro.cod_bairro)\n",
        "                              GROUP BY bairro.nome\n",
        "                              ORDER BY volume_total DESC\n",
        "                            \n",
        "                            \"\"\", conn)                            "
      ],
      "execution_count": 0,
      "outputs": []
    },
    {
      "cell_type": "code",
      "metadata": {
        "id": "vjYlHDsw-H7d",
        "colab_type": "code",
        "outputId": "47ca037c-8235-4977-e00a-c7b4151ccea7",
        "colab": {
          "base_uri": "https://localhost:8080/",
          "height": 197
        }
      },
      "source": [
        "relat3"
      ],
      "execution_count": 0,
      "outputs": [
        {
          "output_type": "execute_result",
          "data": {
            "text/html": [
              "<div>\n",
              "<style scoped>\n",
              "    .dataframe tbody tr th:only-of-type {\n",
              "        vertical-align: middle;\n",
              "    }\n",
              "\n",
              "    .dataframe tbody tr th {\n",
              "        vertical-align: top;\n",
              "    }\n",
              "\n",
              "    .dataframe thead th {\n",
              "        text-align: right;\n",
              "    }\n",
              "</style>\n",
              "<table border=\"1\" class=\"dataframe\">\n",
              "  <thead>\n",
              "    <tr style=\"text-align: right;\">\n",
              "      <th></th>\n",
              "      <th>bairro</th>\n",
              "      <th>qnt_descarte</th>\n",
              "      <th>volume_total</th>\n",
              "    </tr>\n",
              "  </thead>\n",
              "  <tbody>\n",
              "    <tr>\n",
              "      <th>0</th>\n",
              "      <td>Grande Goiabeiras</td>\n",
              "      <td>32</td>\n",
              "      <td>1246.6</td>\n",
              "    </tr>\n",
              "    <tr>\n",
              "      <th>1</th>\n",
              "      <td>Colina de Laranjeiras</td>\n",
              "      <td>11</td>\n",
              "      <td>692.8</td>\n",
              "    </tr>\n",
              "    <tr>\n",
              "      <th>2</th>\n",
              "      <td>Centro de Vitória</td>\n",
              "      <td>7</td>\n",
              "      <td>536.5</td>\n",
              "    </tr>\n",
              "    <tr>\n",
              "      <th>3</th>\n",
              "      <td>Porto de Santana</td>\n",
              "      <td>5</td>\n",
              "      <td>311.9</td>\n",
              "    </tr>\n",
              "    <tr>\n",
              "      <th>4</th>\n",
              "      <td>Carapina</td>\n",
              "      <td>11</td>\n",
              "      <td>299.1</td>\n",
              "    </tr>\n",
              "  </tbody>\n",
              "</table>\n",
              "</div>"
            ],
            "text/plain": [
              "                  bairro  qnt_descarte  volume_total\n",
              "0      Grande Goiabeiras            32        1246.6\n",
              "1  Colina de Laranjeiras            11         692.8\n",
              "2      Centro de Vitória             7         536.5\n",
              "3       Porto de Santana             5         311.9\n",
              "4               Carapina            11         299.1"
            ]
          },
          "metadata": {
            "tags": []
          },
          "execution_count": 118
        }
      ]
    },
    {
      "cell_type": "code",
      "metadata": {
        "id": "GtmzF_xI-OT4",
        "colab_type": "code",
        "outputId": "984b9bc3-3c8e-4015-8a9b-1dfad5458454",
        "colab": {
          "base_uri": "https://localhost:8080/",
          "height": 523
        }
      },
      "source": [
        "df = relat3\n",
        "sns.catplot(x=\"volume_total\", y=\"qnt_descarte\", hue=\"bairro\", data=df, kind=\"bar\", palette= \"husl\")\n",
        "plt.xlabel('Volume Total')\n",
        "plt.ylabel('Quantidade de descarte')\n"
      ],
      "execution_count": 60,
      "outputs": [
        {
          "output_type": "execute_result",
          "data": {
            "text/plain": [
              "Text(53.570214843749994, 0.5, 'Quantidade de descarte')"
            ]
          },
          "metadata": {
            "tags": []
          },
          "execution_count": 60
        },
        {
          "output_type": "display_data",
          "data": {
            "image/png": "[encoded data removed]",
            "text/plain": [
              "<Figure size 696.875x500 with 1 Axes>"
            ]
          },
          "metadata": {
            "tags": []
          }
        }
      ]
    },
    {
      "cell_type": "markdown",
      "metadata": {
        "id": "SJ3FFTihctIy",
        "colab_type": "text"
      },
      "source": [
        "## Relatório 4\n"
      ]
    },
    {
      "cell_type": "markdown",
      "metadata": {
        "id": "HifgIzkkctIy",
        "colab_type": "text"
      },
      "source": [
        "### Objetivo: Mostrar quantas vezes cada caminhão foi alocado, verificar quais estão sendo mais utilizados e os dados (placa, modelo, marca) dos mesmos"
      ]
    },
    {
      "cell_type": "markdown",
      "metadata": {
        "id": "Ww-0ryVRctI1",
        "colab_type": "text"
      },
      "source": [
        "Código para obtenção do resultado:"
      ]
    },
    {
      "cell_type": "code",
      "metadata": {
        "id": "ZGSRTyHHctI2",
        "colab_type": "code",
        "colab": {}
      },
      "source": [
        "relat4 = pd.read_sql_query(\"\"\"\n",
        "\n",
        "                            SELECT\n",
        "                                placa,\n",
        "                                MODELO.nome AS modelo,\n",
        "                                MARCA.nome AS marca,\n",
        "                                count(ALOCA.cod_caminhao) AS qnt_aloca\n",
        "                              FROM CAMINHAO\n",
        "                              INNER JOIN ALOCA ON (CAMINHAO.cod_caminhao = ALOCA.cod_caminhao)\n",
        "                              INNER JOIN MODELO ON (CAMINHAO.cod_modelo = MODELO.cod_modelo)\n",
        "                              INNER JOIN MARCA ON (MODELO.cod_marca = MARCA.cod_marca)\n",
        "                              GROUP BY CAMINHAO.cod_caminhao, ALOCA.cod_caminhao, MODELO.cod_modelo, MARCA.cod_marca\n",
        "                              ORDER BY qnt_aloca DESC\n",
        "                            \n",
        "                            \"\"\",conn)"
      ],
      "execution_count": 0,
      "outputs": []
    },
    {
      "cell_type": "code",
      "metadata": {
        "id": "iXfaNspMHKZn",
        "colab_type": "code",
        "colab": {
          "base_uri": "https://localhost:8080/",
          "height": 137
        },
        "outputId": "ac3ae15c-9988-41cb-af1a-56cd4deddc63"
      },
      "source": [
        "relat4"
      ],
      "execution_count": 14,
      "outputs": [
        {
          "output_type": "execute_result",
          "data": {
            "text/html": [
              "<div>\n",
              "<style scoped>\n",
              "    .dataframe tbody tr th:only-of-type {\n",
              "        vertical-align: middle;\n",
              "    }\n",
              "\n",
              "    .dataframe tbody tr th {\n",
              "        vertical-align: top;\n",
              "    }\n",
              "\n",
              "    .dataframe thead th {\n",
              "        text-align: right;\n",
              "    }\n",
              "</style>\n",
              "<table border=\"1\" class=\"dataframe\">\n",
              "  <thead>\n",
              "    <tr style=\"text-align: right;\">\n",
              "      <th></th>\n",
              "      <th>placa</th>\n",
              "      <th>modelo</th>\n",
              "      <th>marca</th>\n",
              "      <th>qnt_aloca</th>\n",
              "    </tr>\n",
              "  </thead>\n",
              "  <tbody>\n",
              "    <tr>\n",
              "      <th>0</th>\n",
              "      <td>MTR3338</td>\n",
              "      <td>2540</td>\n",
              "      <td>Mercedes Benz</td>\n",
              "      <td>2</td>\n",
              "    </tr>\n",
              "    <tr>\n",
              "      <th>1</th>\n",
              "      <td>MQZ8687</td>\n",
              "      <td>G 440</td>\n",
              "      <td>Scania</td>\n",
              "      <td>1</td>\n",
              "    </tr>\n",
              "    <tr>\n",
              "      <th>2</th>\n",
              "      <td>MTV4311</td>\n",
              "      <td>MB Axor 2036</td>\n",
              "      <td>Mercedes Benz</td>\n",
              "      <td>1</td>\n",
              "    </tr>\n",
              "  </tbody>\n",
              "</table>\n",
              "</div>"
            ],
            "text/plain": [
              "     placa        modelo          marca  qnt_aloca\n",
              "0  MTR3338          2540  Mercedes Benz          2\n",
              "1  MQZ8687         G 440         Scania          1\n",
              "2  MTV4311  MB Axor 2036  Mercedes Benz          1"
            ]
          },
          "metadata": {
            "tags": []
          },
          "execution_count": 14
        }
      ]
    },
    {
      "cell_type": "code",
      "metadata": {
        "id": "czCBhPuectI7",
        "colab_type": "code",
        "outputId": "0c43c838-4151-49d5-fe3f-ffaecaaf41b1",
        "colab": {
          "base_uri": "https://localhost:8080/",
          "height": 524
        }
      },
      "source": [
        "df = relat4\n",
        "sns.catplot(x=\"modelo\", y=\"qnt_aloca\", hue=\"placa\", data=df, kind=\"bar\", palette= \"husl\",)"
      ],
      "execution_count": 16,
      "outputs": [
        {
          "output_type": "execute_result",
          "data": {
            "text/plain": [
              "<seaborn.axisgrid.FacetGrid at 0x7fed1687a7b8>"
            ]
          },
          "metadata": {
            "tags": []
          },
          "execution_count": 16
        },
        {
          "output_type": "display_data",
          "data": {
            "image/png": "[encoded data removed]",
            "text/plain": [
              "<Figure size 617.75x500 with 1 Axes>"
            ]
          },
          "metadata": {
            "tags": []
          }
        }
      ]
    },
    {
      "cell_type": "markdown",
      "metadata": {
        "id": "EfJqg3sfctI-",
        "colab_type": "text"
      },
      "source": [
        "## Relatório 5"
      ]
    },
    {
      "cell_type": "markdown",
      "metadata": {
        "id": "i8f_Unv-ctJA",
        "colab_type": "text"
      },
      "source": [
        "### Objetivo: Verificar a quantidade de lixeiras em cada Status Operacional"
      ]
    },
    {
      "cell_type": "markdown",
      "metadata": {
        "id": "aRwujwqEctJC",
        "colab_type": "text"
      },
      "source": [
        "Código para obtenção do resultado:"
      ]
    },
    {
      "cell_type": "code",
      "metadata": {
        "id": "zsx9hH3XctJD",
        "colab_type": "code",
        "colab": {}
      },
      "source": [
        "relat5 = pd.read_sql_query(\"\"\"\n",
        "\n",
        "                            SELECT \n",
        "                              status.descricao AS situacao_lixeira, \n",
        "                              count(SITUACAO_OPERACIONAL.cod_status) AS contagem\n",
        "                              FROM SITUACAO_OPERACIONAL\n",
        "                              INNER JOIN STATUS ON (SITUACAO_OPERACIONAL.cod_status = STATUS.cod_status)\n",
        "                              GROUP BY (STATUS.cod_status)\n",
        "                            ORDER BY contagem\n",
        "    \n",
        "                            \"\"\",conn)"
      ],
      "execution_count": 0,
      "outputs": []
    },
    {
      "cell_type": "code",
      "metadata": {
        "id": "u9jiAtwSctJH",
        "colab_type": "code",
        "outputId": "29f68987-a23e-49e6-9840-bfa1cfc8bd23",
        "colab": {
          "base_uri": "https://localhost:8080/",
          "height": 107
        }
      },
      "source": [
        "relat5"
      ],
      "execution_count": 0,
      "outputs": [
        {
          "output_type": "execute_result",
          "data": {
            "text/html": [
              "<div>\n",
              "<style scoped>\n",
              "    .dataframe tbody tr th:only-of-type {\n",
              "        vertical-align: middle;\n",
              "    }\n",
              "\n",
              "    .dataframe tbody tr th {\n",
              "        vertical-align: top;\n",
              "    }\n",
              "\n",
              "    .dataframe thead th {\n",
              "        text-align: right;\n",
              "    }\n",
              "</style>\n",
              "<table border=\"1\" class=\"dataframe\">\n",
              "  <thead>\n",
              "    <tr style=\"text-align: right;\">\n",
              "      <th></th>\n",
              "      <th>situacao_lixeira</th>\n",
              "      <th>contagem</th>\n",
              "    </tr>\n",
              "  </thead>\n",
              "  <tbody>\n",
              "    <tr>\n",
              "      <th>0</th>\n",
              "      <td>Não atende a demanda</td>\n",
              "      <td>2</td>\n",
              "    </tr>\n",
              "    <tr>\n",
              "      <th>1</th>\n",
              "      <td>Quebrada</td>\n",
              "      <td>4</td>\n",
              "    </tr>\n",
              "  </tbody>\n",
              "</table>\n",
              "</div>"
            ],
            "text/plain": [
              "       situacao_lixeira  contagem\n",
              "0  Não atende a demanda         2\n",
              "1              Quebrada         4"
            ]
          },
          "metadata": {
            "tags": []
          },
          "execution_count": 147
        }
      ]
    },
    {
      "cell_type": "code",
      "metadata": {
        "id": "CRrUIt3UctJM",
        "colab_type": "code",
        "outputId": "3c707a2a-109d-4197-981d-45cb590420ae",
        "colab": {
          "base_uri": "https://localhost:8080/",
          "height": 452
        }
      },
      "source": [
        "df = pd.DataFrame(relat5)\n",
        "cm = sns.light_palette(\"blue\", as_cmap=True)\n",
        "df.style.background_gradient(cmap=cm)\n",
        " \n",
        "objects = tuple(df.situacao_lixeira)\n",
        "y_pos = np.arange(len(objects))\n",
        "performance = list(df.contagem)\n",
        " \n",
        "plt.bar(y_pos, performance, align='center', alpha=0.6, color = 'Blue')\n",
        "plt.xticks(y_pos, objects)\n",
        "plt.ylabel('Quantidade de Lixeiras')\n",
        "plt.title('Status Operacional')\n",
        "\n",
        "plt.show()"
      ],
      "execution_count": 0,
      "outputs": [
        {
          "output_type": "display_data",
          "data": {
            "image/png": "[encoded data removed]",
            "text/plain": [
              "<Figure size 640x480 with 1 Axes>"
            ]
          },
          "metadata": {
            "tags": []
          }
        }
      ]
    },
    {
      "cell_type": "markdown",
      "metadata": {
        "id": "1PSpQokkctJP",
        "colab_type": "text"
      },
      "source": [
        "## Relatório 6"
      ]
    },
    {
      "cell_type": "markdown",
      "metadata": {
        "id": "oUQdbIgqctJQ",
        "colab_type": "text"
      },
      "source": [
        "### Objetivo: Verificar quais lixeiras se encontram quebradas, para eventual troca, mostrando o código da lixeira, o bairro onde se encontra e suas coordenadas geográficas"
      ]
    },
    {
      "cell_type": "markdown",
      "metadata": {
        "id": "UdSyWBSfctJR",
        "colab_type": "text"
      },
      "source": [
        "Código para obtenção do resultado:"
      ]
    },
    {
      "cell_type": "code",
      "metadata": {
        "id": "gTaIdoPIctJS",
        "colab_type": "code",
        "colab": {}
      },
      "source": [
        "relat6 = pd.read_sql_query(\"\"\"\n",
        "                            SELECT \n",
        "                              LIXEIRA.cod_lixeira,\n",
        "                              BAIRRO.nome as bairro,\n",
        "                              'lat: '||LIXEIRA.latitude|| ' long: ' || LIXEIRA.longitude as localizacao\n",
        "                              FROM SITUACAO_OPERACIONAL\n",
        "                              INNER JOIN STATUS ON (SITUACAO_OPERACIONAL.cod_status = STATUS.cod_status)\n",
        "                              INNER JOIN COLETA ON (SITUACAO_OPERACIONAL.cod_coleta = COLETA.cod_coleta)\n",
        "                              INNER JOIN LIXEIRA ON (COLETA.cod_lixeira = LIXEIRA.cod_lixeira)\n",
        "                              INNER JOIN BAIRRO ON (LIXEIRA.cod_bairro = BAIRRO.cod_bairro)\n",
        "                              WHERE STATUS.descricao = 'Quebrada'\n",
        "                            \"\"\",conn)"
      ],
      "execution_count": 0,
      "outputs": []
    },
    {
      "cell_type": "code",
      "metadata": {
        "id": "cF7Trv98ctJa",
        "colab_type": "code",
        "outputId": "0af48d60-6799-477b-c33b-8316f1684b6d",
        "colab": {
          "base_uri": "https://localhost:8080/",
          "height": 167
        }
      },
      "source": [
        "relat6"
      ],
      "execution_count": 21,
      "outputs": [
        {
          "output_type": "execute_result",
          "data": {
            "text/html": [
              "<div>\n",
              "<style scoped>\n",
              "    .dataframe tbody tr th:only-of-type {\n",
              "        vertical-align: middle;\n",
              "    }\n",
              "\n",
              "    .dataframe tbody tr th {\n",
              "        vertical-align: top;\n",
              "    }\n",
              "\n",
              "    .dataframe thead th {\n",
              "        text-align: right;\n",
              "    }\n",
              "</style>\n",
              "<table border=\"1\" class=\"dataframe\">\n",
              "  <thead>\n",
              "    <tr style=\"text-align: right;\">\n",
              "      <th></th>\n",
              "      <th>cod_lixeira</th>\n",
              "      <th>bairro</th>\n",
              "      <th>localizacao</th>\n",
              "    </tr>\n",
              "  </thead>\n",
              "  <tbody>\n",
              "    <tr>\n",
              "      <th>0</th>\n",
              "      <td>9</td>\n",
              "      <td>Centro de Vitória</td>\n",
              "      <td>lat: -20.19695 long: -40.251233</td>\n",
              "    </tr>\n",
              "    <tr>\n",
              "      <th>1</th>\n",
              "      <td>10</td>\n",
              "      <td>Centro de Vitória</td>\n",
              "      <td>lat: -20.196958 long: -40.252933</td>\n",
              "    </tr>\n",
              "    <tr>\n",
              "      <th>2</th>\n",
              "      <td>13</td>\n",
              "      <td>Colina de Laranjeiras</td>\n",
              "      <td>lat: -20.193958 long: -40.193958</td>\n",
              "    </tr>\n",
              "    <tr>\n",
              "      <th>3</th>\n",
              "      <td>14</td>\n",
              "      <td>Colina de Laranjeiras</td>\n",
              "      <td>lat: -20.196958 long: -40.196958</td>\n",
              "    </tr>\n",
              "  </tbody>\n",
              "</table>\n",
              "</div>"
            ],
            "text/plain": [
              "   cod_lixeira                 bairro                       localizacao\n",
              "0            9      Centro de Vitória   lat: -20.19695 long: -40.251233\n",
              "1           10      Centro de Vitória  lat: -20.196958 long: -40.252933\n",
              "2           13  Colina de Laranjeiras  lat: -20.193958 long: -40.193958\n",
              "3           14  Colina de Laranjeiras  lat: -20.196958 long: -40.196958"
            ]
          },
          "metadata": {
            "tags": []
          },
          "execution_count": 21
        }
      ]
    },
    {
      "cell_type": "code",
      "metadata": {
        "id": "M7Ls5DjRxZln",
        "colab_type": "code",
        "outputId": "c8915761-50f2-4947-b4f8-f2cea29a0ccc",
        "colab": {
          "base_uri": "https://localhost:8080/",
          "height": 542
        }
      },
      "source": [
        "df = relat6\n",
        "a = sns.catplot(x=\"bairro\", y=\"cod_lixeira\", hue = \"localizacao\",\n",
        "                data=df,  palette= \"husl\")\n",
        "plt.title('Lixeiras quebradas por bairro')\n",
        "plt.ylabel('Código Lixeira')\n",
        "plt.xlabel('Bairro da Lixeira')\n"
      ],
      "execution_count": 44,
      "outputs": [
        {
          "output_type": "execute_result",
          "data": {
            "text/plain": [
              "Text(0.5, 28.999999999999986, 'Bairro da Lixeira')"
            ]
          },
          "metadata": {
            "tags": []
          },
          "execution_count": 44
        },
        {
          "output_type": "display_data",
          "data": {
            "image/png": "[encoded data removed]",
            "text/plain": [
              "<Figure size 780.125x500 with 1 Axes>"
            ]
          },
          "metadata": {
            "tags": []
          }
        }
      ]
    },
    {
      "cell_type": "markdown",
      "metadata": {
        "id": "2AU1iFP_Fuq0",
        "colab_type": "text"
      },
      "source": [
        "#Relatório 7"
      ]
    },
    {
      "cell_type": "markdown",
      "metadata": {
        "id": "rafXW4u0FuKe",
        "colab_type": "text"
      },
      "source": [
        "###Objetivo Quantificar o numero de Lixeiras Inteligentes por bairro\n"
      ]
    },
    {
      "cell_type": "code",
      "metadata": {
        "id": "zO58bAuf47ga",
        "colab_type": "code",
        "colab": {}
      },
      "source": [
        "relat7 = pd.read_sql_query(\"\"\"SELECT \n",
        "\tcount(*) as numero_de_lixeiras,\n",
        "\tBAIRRO.nome as bairro\n",
        "\tFROM BAIRRO INNER JOIN LIXEIRA ON (BAIRRO.cod_bairro = LIXEIRA.cod_bairro)\n",
        "\tGROUP BY BAIRRO.nome;\n",
        "\t\"\"\", conn)"
      ],
      "execution_count": 0,
      "outputs": []
    },
    {
      "cell_type": "code",
      "metadata": {
        "id": "kgdwhpIb5J_3",
        "colab_type": "code",
        "outputId": "c4c19715-b08b-43c8-84fe-ac06244fffae",
        "colab": {
          "base_uri": "https://localhost:8080/",
          "height": 227
        }
      },
      "source": [
        "relat7"
      ],
      "execution_count": 0,
      "outputs": [
        {
          "output_type": "execute_result",
          "data": {
            "text/html": [
              "<div>\n",
              "<style scoped>\n",
              "    .dataframe tbody tr th:only-of-type {\n",
              "        vertical-align: middle;\n",
              "    }\n",
              "\n",
              "    .dataframe tbody tr th {\n",
              "        vertical-align: top;\n",
              "    }\n",
              "\n",
              "    .dataframe thead th {\n",
              "        text-align: right;\n",
              "    }\n",
              "</style>\n",
              "<table border=\"1\" class=\"dataframe\">\n",
              "  <thead>\n",
              "    <tr style=\"text-align: right;\">\n",
              "      <th></th>\n",
              "      <th>numero_de_lixeiras</th>\n",
              "      <th>bairro</th>\n",
              "    </tr>\n",
              "  </thead>\n",
              "  <tbody>\n",
              "    <tr>\n",
              "      <th>0</th>\n",
              "      <td>6</td>\n",
              "      <td>Grande Goiabeiras</td>\n",
              "    </tr>\n",
              "    <tr>\n",
              "      <th>1</th>\n",
              "      <td>5</td>\n",
              "      <td>Centro de Vitória</td>\n",
              "    </tr>\n",
              "    <tr>\n",
              "      <th>2</th>\n",
              "      <td>5</td>\n",
              "      <td>Carapina</td>\n",
              "    </tr>\n",
              "    <tr>\n",
              "      <th>3</th>\n",
              "      <td>5</td>\n",
              "      <td>Colina de Laranjeiras</td>\n",
              "    </tr>\n",
              "    <tr>\n",
              "      <th>4</th>\n",
              "      <td>5</td>\n",
              "      <td>Jardim da Penha</td>\n",
              "    </tr>\n",
              "    <tr>\n",
              "      <th>5</th>\n",
              "      <td>4</td>\n",
              "      <td>Porto de Santana</td>\n",
              "    </tr>\n",
              "  </tbody>\n",
              "</table>\n",
              "</div>"
            ],
            "text/plain": [
              "   numero_de_lixeiras                 bairro\n",
              "0                   6      Grande Goiabeiras\n",
              "1                   5      Centro de Vitória\n",
              "2                   5               Carapina\n",
              "3                   5  Colina de Laranjeiras\n",
              "4                   5        Jardim da Penha\n",
              "5                   4       Porto de Santana"
            ]
          },
          "metadata": {
            "tags": []
          },
          "execution_count": 188
        }
      ]
    },
    {
      "cell_type": "code",
      "metadata": {
        "id": "NLWqtoYZ7EHZ",
        "colab_type": "code",
        "outputId": "6694db46-bbb8-4d4d-aa59-ccf595d003ff",
        "colab": {
          "base_uri": "https://localhost:8080/",
          "height": 542
        }
      },
      "source": [
        "df = relat7\n",
        "\n",
        "sns.catplot(x=\"numero_de_lixeiras\", y=\"bairro\",\n",
        "                data=df, saturation=.5,\n",
        "                kind=\"bar\", ci=None, aspect=.8, palette= \"husl\")\n",
        "plt.xlabel('Numero de Lixeiras Inteligentes')\n",
        "plt.title('Quantidade de Lixeiras Inteligentes por bairro')"
      ],
      "execution_count": 0,
      "outputs": [
        {
          "output_type": "execute_result",
          "data": {
            "text/plain": [
              "Text(0.5, 1.0, 'Quantidade de Lixeiras Inteligentes por bairro')"
            ]
          },
          "metadata": {
            "tags": []
          },
          "execution_count": 189
        },
        {
          "output_type": "display_data",
          "data": {
            "image/png": "[encoded data removed]",
            "text/plain": [
              "<Figure size 400x500 with 1 Axes>"
            ]
          },
          "metadata": {
            "tags": []
          }
        }
      ]
    },
    {
      "cell_type": "markdown",
      "metadata": {
        "id": "pPu2pRKAs5iq",
        "colab_type": "text"
      },
      "source": [
        "#Relatório 8\n"
      ]
    },
    {
      "cell_type": "markdown",
      "metadata": {
        "id": "UF0gWinAs-Ab",
        "colab_type": "text"
      },
      "source": [
        "##Objetivo: Identificar o volume atual das lixeiras com lixo.\n"
      ]
    },
    {
      "cell_type": "code",
      "metadata": {
        "id": "eZs85LFMTSK5",
        "colab_type": "code",
        "colab": {}
      },
      "source": [
        "relat8 = pd.read_sql_query(\"\"\"SELECT lixeira.cod_lixeira,\n",
        "                                  SUM(descarte.volume) AS somavolume,\n",
        "                                  lixeira.capacidade, \n",
        "                                  (SUM(descarte.volume)/lixeira.capacidade) as nivel_Atual,\n",
        "                                bairro.nome as bairro FROM lixeira\n",
        "                                INNER JOIN descarte ON (lixeira.cod_lixeira = descarte.cod_lixeira)\n",
        "                                INNER JOIN coleta ON (descarte.cod_lixeira = coleta.cod_lixeira)\n",
        "                                INNER JOIN bairro ON (bairro.cod_bairro = lixeira.cod_bairro)\n",
        "                                WHERE descarte.data_descarte > coleta.data_coleta \n",
        "                                OR (descarte.data_descarte = coleta.data_coleta AND descarte.hora_descarte > coleta.hora_coleta)\n",
        "                                GROUP BY lixeira.cod_lixeira, lixeira.capacidade, bairro\n",
        "                                ORDER BY lixeira.cod_lixeira\n",
        "                              \"\"\", conn)"
      ],
      "execution_count": 0,
      "outputs": []
    },
    {
      "cell_type": "code",
      "metadata": {
        "id": "fxZPdwIQT8UO",
        "colab_type": "code",
        "outputId": "b27faf85-76e3-4ff2-eaf7-9f7c9f855ba2",
        "colab": {
          "base_uri": "https://localhost:8080/",
          "height": 437
        }
      },
      "source": [
        "relat8"
      ],
      "execution_count": 0,
      "outputs": [
        {
          "output_type": "execute_result",
          "data": {
            "text/html": [
              "<div>\n",
              "<style scoped>\n",
              "    .dataframe tbody tr th:only-of-type {\n",
              "        vertical-align: middle;\n",
              "    }\n",
              "\n",
              "    .dataframe tbody tr th {\n",
              "        vertical-align: top;\n",
              "    }\n",
              "\n",
              "    .dataframe thead th {\n",
              "        text-align: right;\n",
              "    }\n",
              "</style>\n",
              "<table border=\"1\" class=\"dataframe\">\n",
              "  <thead>\n",
              "    <tr style=\"text-align: right;\">\n",
              "      <th></th>\n",
              "      <th>cod_lixeira</th>\n",
              "      <th>somavolume</th>\n",
              "      <th>capacidade</th>\n",
              "      <th>nivel_atual</th>\n",
              "      <th>bairro</th>\n",
              "    </tr>\n",
              "  </thead>\n",
              "  <tbody>\n",
              "    <tr>\n",
              "      <th>0</th>\n",
              "      <td>1</td>\n",
              "      <td>97.4</td>\n",
              "      <td>160.0</td>\n",
              "      <td>0.608750</td>\n",
              "      <td>Grande Goiabeiras</td>\n",
              "    </tr>\n",
              "    <tr>\n",
              "      <th>1</th>\n",
              "      <td>2</td>\n",
              "      <td>57.0</td>\n",
              "      <td>200.0</td>\n",
              "      <td>0.285000</td>\n",
              "      <td>Grande Goiabeiras</td>\n",
              "    </tr>\n",
              "    <tr>\n",
              "      <th>2</th>\n",
              "      <td>3</td>\n",
              "      <td>41.2</td>\n",
              "      <td>205.0</td>\n",
              "      <td>0.200976</td>\n",
              "      <td>Grande Goiabeiras</td>\n",
              "    </tr>\n",
              "    <tr>\n",
              "      <th>3</th>\n",
              "      <td>4</td>\n",
              "      <td>115.7</td>\n",
              "      <td>186.0</td>\n",
              "      <td>0.622043</td>\n",
              "      <td>Grande Goiabeiras</td>\n",
              "    </tr>\n",
              "    <tr>\n",
              "      <th>4</th>\n",
              "      <td>5</td>\n",
              "      <td>15.0</td>\n",
              "      <td>100.0</td>\n",
              "      <td>0.150000</td>\n",
              "      <td>Grande Goiabeiras</td>\n",
              "    </tr>\n",
              "    <tr>\n",
              "      <th>5</th>\n",
              "      <td>6</td>\n",
              "      <td>82.2</td>\n",
              "      <td>100.0</td>\n",
              "      <td>0.822000</td>\n",
              "      <td>Grande Goiabeiras</td>\n",
              "    </tr>\n",
              "    <tr>\n",
              "      <th>6</th>\n",
              "      <td>7</td>\n",
              "      <td>37.0</td>\n",
              "      <td>100.0</td>\n",
              "      <td>0.370000</td>\n",
              "      <td>Centro de Vitória</td>\n",
              "    </tr>\n",
              "    <tr>\n",
              "      <th>7</th>\n",
              "      <td>9</td>\n",
              "      <td>120.0</td>\n",
              "      <td>120.0</td>\n",
              "      <td>1.000000</td>\n",
              "      <td>Centro de Vitória</td>\n",
              "    </tr>\n",
              "    <tr>\n",
              "      <th>8</th>\n",
              "      <td>10</td>\n",
              "      <td>200.0</td>\n",
              "      <td>200.0</td>\n",
              "      <td>1.000000</td>\n",
              "      <td>Centro de Vitória</td>\n",
              "    </tr>\n",
              "    <tr>\n",
              "      <th>9</th>\n",
              "      <td>12</td>\n",
              "      <td>65.0</td>\n",
              "      <td>120.0</td>\n",
              "      <td>0.541667</td>\n",
              "      <td>Colina de Laranjeiras</td>\n",
              "    </tr>\n",
              "    <tr>\n",
              "      <th>10</th>\n",
              "      <td>16</td>\n",
              "      <td>14.0</td>\n",
              "      <td>200.0</td>\n",
              "      <td>0.070000</td>\n",
              "      <td>Colina de Laranjeiras</td>\n",
              "    </tr>\n",
              "    <tr>\n",
              "      <th>11</th>\n",
              "      <td>17</td>\n",
              "      <td>15.1</td>\n",
              "      <td>300.0</td>\n",
              "      <td>0.050333</td>\n",
              "      <td>Porto de Santana</td>\n",
              "    </tr>\n",
              "    <tr>\n",
              "      <th>12</th>\n",
              "      <td>22</td>\n",
              "      <td>5.1</td>\n",
              "      <td>110.0</td>\n",
              "      <td>0.046364</td>\n",
              "      <td>Carapina</td>\n",
              "    </tr>\n",
              "  </tbody>\n",
              "</table>\n",
              "</div>"
            ],
            "text/plain": [
              "    cod_lixeira  somavolume  capacidade  nivel_atual                 bairro\n",
              "0             1        97.4       160.0     0.608750      Grande Goiabeiras\n",
              "1             2        57.0       200.0     0.285000      Grande Goiabeiras\n",
              "2             3        41.2       205.0     0.200976      Grande Goiabeiras\n",
              "3             4       115.7       186.0     0.622043      Grande Goiabeiras\n",
              "4             5        15.0       100.0     0.150000      Grande Goiabeiras\n",
              "5             6        82.2       100.0     0.822000      Grande Goiabeiras\n",
              "6             7        37.0       100.0     0.370000      Centro de Vitória\n",
              "7             9       120.0       120.0     1.000000      Centro de Vitória\n",
              "8            10       200.0       200.0     1.000000      Centro de Vitória\n",
              "9            12        65.0       120.0     0.541667  Colina de Laranjeiras\n",
              "10           16        14.0       200.0     0.070000  Colina de Laranjeiras\n",
              "11           17        15.1       300.0     0.050333       Porto de Santana\n",
              "12           22         5.1       110.0     0.046364               Carapina"
            ]
          },
          "metadata": {
            "tags": []
          },
          "execution_count": 191
        }
      ]
    },
    {
      "cell_type": "code",
      "metadata": {
        "id": "W2YI-zR4bhfc",
        "colab_type": "code",
        "outputId": "421d3377-6f9e-407d-930f-4bf2f71d3317",
        "colab": {
          "base_uri": "https://localhost:8080/",
          "height": 543
        }
      },
      "source": [
        "df = relat8;\n",
        "\n",
        "current_palette = sns.color_palette()\n",
        "\n",
        "sns.catplot(x=\"cod_lixeira\", y=\"nivel_atual\",\n",
        "                data=df, saturation=.5,\n",
        "                kind=\"bar\", ci=None, aspect=.8, palette= \"husl\");\n",
        "plt.title('Preenchimento das lixeiras com lixo')\n",
        "plt.ylabel('Nível Atual (%)')\n",
        "plt.xlabel('Código da Lixeira')"
      ],
      "execution_count": 52,
      "outputs": [
        {
          "output_type": "execute_result",
          "data": {
            "text/plain": [
              "Text(0.5, 9.444444444444438, 'Código da Lixeira')"
            ]
          },
          "metadata": {
            "tags": []
          },
          "execution_count": 52
        },
        {
          "output_type": "display_data",
          "data": {
            "image/png": "[encoded data removed]",
            "text/plain": [
              "<Figure size 400x500 with 1 Axes>"
            ]
          },
          "metadata": {
            "tags": []
          }
        }
      ]
    },
    {
      "cell_type": "markdown",
      "metadata": {
        "id": "yOAovll_ctJe",
        "colab_type": "text"
      },
      "source": [
        "# Referencias"
      ]
    },
    {
      "cell_type": "markdown",
      "metadata": {
        "id": "xA06X9-bctJf",
        "colab_type": "text"
      },
      "source": [
        "https://pandas.pydata.org/pandas-docs/stable/style.html <br>\n",
        "https://pythonspot.com/matplotlib-bar-chart/<br>\n",
        "https://pandas.pydata.org/pandas-docs/stable/generated/pandas.DataFrame.loc.html <br>"
      ]
    }
  ]
}