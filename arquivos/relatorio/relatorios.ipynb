{
  "nbformat": 4,
  "nbformat_minor": 0,
  "metadata": {
    "colab": {
      "name": "relatorios.ipynb",
      "version": "0.3.2",
      "provenance": [],
      "collapsed_sections": []
    },
    "language_info": {
      "codemirror_mode": {
        "name": "ipython",
        "version": 3
      },
      "file_extension": ".py",
      "mimetype": "text/x-python",
      "name": "python",
      "nbconvert_exporter": "python",
      "pygments_lexer": "ipython3",
      "version": "3.7.3"
    },
    "kernelspec": {
      "display_name": "Python 3",
      "language": "python",
      "name": "python3"
    }
  },
  "cells": [
    {
      "cell_type": "markdown",
      "metadata": {
        "id": "XUxBRubSctII",
        "colab_type": "text"
      },
      "source": [
        "# Conexão com postgres e Relatórios do Sistema"
      ]
    },
    {
      "cell_type": "markdown",
      "metadata": {
        "id": "4g_Pqn73ctIK",
        "colab_type": "text"
      },
      "source": [
        "## Instalando biblioteca de acesso com postgres e manipulação de dados e gráficos"
      ]
    },
    {
      "cell_type": "code",
      "metadata": {
        "id": "24IH8tXmctIL",
        "colab_type": "code",
        "outputId": "001c4c3e-fa7e-4224-fa1e-e59c67bec38b",
        "colab": {
          "base_uri": "https://localhost:8080/",
          "height": 391
        }
      },
      "source": [
        "!pip install --user psycopg2-binary\n",
        "!pip install --user seaborn\n",
        "!pip install --user pandas"
      ],
      "execution_count": 1,
      "outputs": [
        {
          "output_type": "stream",
          "text": [
            "Collecting psycopg2-binary\n",
            "\u001b[?25l  Downloading https://files.pythonhosted.org/packages/b1/35/75c9c2d9cfc073ab6c42b2d8e91ff58c9b99f4ed7ed56b36647642e6080e/psycopg2_binary-2.8.3-cp36-cp36m-manylinux1_x86_64.whl (2.9MB)\n",
            "\u001b[K     |████████████████████████████████| 2.9MB 4.9MB/s \n",
            "\u001b[?25hInstalling collected packages: psycopg2-binary\n",
            "Successfully installed psycopg2-binary-2.8.3\n",
            "Requirement already satisfied: seaborn in /usr/local/lib/python3.6/dist-packages (0.9.0)\n",
            "Requirement already satisfied: pandas>=0.15.2 in /usr/local/lib/python3.6/dist-packages (from seaborn) (0.24.2)\n",
            "Requirement already satisfied: numpy>=1.9.3 in /usr/local/lib/python3.6/dist-packages (from seaborn) (1.16.4)\n",
            "Requirement already satisfied: scipy>=0.14.0 in /usr/local/lib/python3.6/dist-packages (from seaborn) (1.3.0)\n",
            "Requirement already satisfied: matplotlib>=1.4.3 in /usr/local/lib/python3.6/dist-packages (from seaborn) (3.0.3)\n",
            "Requirement already satisfied: pytz>=2011k in /usr/local/lib/python3.6/dist-packages (from pandas>=0.15.2->seaborn) (2018.9)\n",
            "Requirement already satisfied: python-dateutil>=2.5.0 in /usr/local/lib/python3.6/dist-packages (from pandas>=0.15.2->seaborn) (2.5.3)\n",
            "Requirement already satisfied: cycler>=0.10 in /usr/local/lib/python3.6/dist-packages (from matplotlib>=1.4.3->seaborn) (0.10.0)\n",
            "Requirement already satisfied: kiwisolver>=1.0.1 in /usr/local/lib/python3.6/dist-packages (from matplotlib>=1.4.3->seaborn) (1.1.0)\n",
            "Requirement already satisfied: pyparsing!=2.0.4,!=2.1.2,!=2.1.6,>=2.0.1 in /usr/local/lib/python3.6/dist-packages (from matplotlib>=1.4.3->seaborn) (2.4.0)\n",
            "Requirement already satisfied: six>=1.5 in /usr/local/lib/python3.6/dist-packages (from python-dateutil>=2.5.0->pandas>=0.15.2->seaborn) (1.12.0)\n",
            "Requirement already satisfied: setuptools in /usr/local/lib/python3.6/dist-packages (from kiwisolver>=1.0.1->matplotlib>=1.4.3->seaborn) (41.0.1)\n",
            "Requirement already satisfied: pandas in /usr/local/lib/python3.6/dist-packages (0.24.2)\n",
            "Requirement already satisfied: python-dateutil>=2.5.0 in /usr/local/lib/python3.6/dist-packages (from pandas) (2.5.3)\n",
            "Requirement already satisfied: numpy>=1.12.0 in /usr/local/lib/python3.6/dist-packages (from pandas) (1.16.4)\n",
            "Requirement already satisfied: pytz>=2011k in /usr/local/lib/python3.6/dist-packages (from pandas) (2018.9)\n",
            "Requirement already satisfied: six>=1.5 in /usr/local/lib/python3.6/dist-packages (from python-dateutil>=2.5.0->pandas) (1.12.0)\n"
          ],
          "name": "stdout"
        }
      ]
    },
    {
      "cell_type": "markdown",
      "metadata": {
        "id": "xecr2WkLctIR",
        "colab_type": "text"
      },
      "source": [
        "### Importando bibliotecas"
      ]
    },
    {
      "cell_type": "code",
      "metadata": {
        "id": "k6r6rPk1ctIS",
        "colab_type": "code",
        "colab": {}
      },
      "source": [
        "import seaborn as sns\n",
        "import pandas as pd\n",
        "import psycopg2\n",
        "\n",
        "import matplotlib.pyplot as plt; plt.rcdefaults()\n",
        "import numpy as np\n",
        "import matplotlib.pyplot as plt"
      ],
      "execution_count": 0,
      "outputs": []
    },
    {
      "cell_type": "markdown",
      "metadata": {
        "id": "edeaini5ctIY",
        "colab_type": "text"
      },
      "source": [
        "### Usando psycopg2 para configurar conexão"
      ]
    },
    {
      "cell_type": "code",
      "metadata": {
        "id": "3HTgmcNZctIZ",
        "colab_type": "code",
        "colab": {}
      },
      "source": [
        "conn = psycopg2.connect(host=\"tuffi.db.elephantsql.com\",\n",
        "                        database=\"xubzhvcc\", \n",
        "                        user=\"xubzhvcc\",\n",
        "                        password=\"nXYY2mo9mt1RSIEAMG7F6rYw_ikut3hB\")"
      ],
      "execution_count": 0,
      "outputs": []
    },
    {
      "cell_type": "markdown",
      "metadata": {
        "id": "9huT5MJBctIb",
        "colab_type": "text"
      },
      "source": [
        "# Relatório 1"
      ]
    },
    {
      "cell_type": "markdown",
      "metadata": {
        "id": "YBaJhexqctIc",
        "colab_type": "text"
      },
      "source": [
        "### Objetivo: Obter a quantidade de lixo total coletado em determinado bairro em cada rota, evidenciando o caminhão que realizou aquela rota"
      ]
    },
    {
      "cell_type": "markdown",
      "metadata": {
        "id": "McWkcpCUctId",
        "colab_type": "text"
      },
      "source": [
        "Código para obtenção do resultado:"
      ]
    },
    {
      "cell_type": "code",
      "metadata": {
        "id": "fWkR_gLPctId",
        "colab_type": "code",
        "colab": {}
      },
      "source": [
        "relat1 = pd.read_sql_query(\"\"\"\n",
        "\n",
        "                            SELECT\n",
        "                              BAIRRO.nome as bairro,\n",
        "                              sum(COLETA.volume) AS volumeT_coletado,\n",
        "                              placa\n",
        "                            FROM BAIRRO\n",
        "                            INNER JOIN LIXEIRA ON (BAIRRO.cod_bairro = LIXEIRA.cod_bairro)\n",
        "                            INNER JOIN COLETA ON (LIXEIRA.cod_lixeira = COLETA.cod_lixeira)\n",
        "                            INNER jOIN CAMINHAO ON (CAMINHAO.cod_caminhao = COLETA.cod_caminhao)\n",
        "                            GROUP BY BAIRRO.nome, COLETA.cod_caminhao, CAMINHAO.placa\n",
        "                            ORDER BY volumeT_coletado\n",
        "                            \n",
        "                             \"\"\",conn)"
      ],
      "execution_count": 0,
      "outputs": []
    },
    {
      "cell_type": "code",
      "metadata": {
        "id": "rt75itcvctIg",
        "colab_type": "code",
        "outputId": "1b969c3e-bdbd-48b9-f211-233d4b338494",
        "colab": {
          "base_uri": "https://localhost:8080/",
          "height": 266
        }
      },
      "source": [
        "relat1"
      ],
      "execution_count": 119,
      "outputs": [
        {
          "output_type": "execute_result",
          "data": {
            "text/html": [
              "<div>\n",
              "<style scoped>\n",
              "    .dataframe tbody tr th:only-of-type {\n",
              "        vertical-align: middle;\n",
              "    }\n",
              "\n",
              "    .dataframe tbody tr th {\n",
              "        vertical-align: top;\n",
              "    }\n",
              "\n",
              "    .dataframe thead th {\n",
              "        text-align: right;\n",
              "    }\n",
              "</style>\n",
              "<table border=\"1\" class=\"dataframe\">\n",
              "  <thead>\n",
              "    <tr style=\"text-align: right;\">\n",
              "      <th></th>\n",
              "      <th>bairro</th>\n",
              "      <th>volumet_coletado</th>\n",
              "      <th>placa</th>\n",
              "    </tr>\n",
              "  </thead>\n",
              "  <tbody>\n",
              "    <tr>\n",
              "      <th>0</th>\n",
              "      <td>Centro de Vitória</td>\n",
              "      <td>90.00</td>\n",
              "      <td>MQZ8687</td>\n",
              "    </tr>\n",
              "    <tr>\n",
              "      <th>1</th>\n",
              "      <td>Carapina</td>\n",
              "      <td>294.00</td>\n",
              "      <td>MTR3338</td>\n",
              "    </tr>\n",
              "    <tr>\n",
              "      <th>2</th>\n",
              "      <td>Porto de Santana</td>\n",
              "      <td>297.00</td>\n",
              "      <td>MQZ8687</td>\n",
              "    </tr>\n",
              "    <tr>\n",
              "      <th>3</th>\n",
              "      <td>Centro de Vitória</td>\n",
              "      <td>409.50</td>\n",
              "      <td>MTV4311</td>\n",
              "    </tr>\n",
              "    <tr>\n",
              "      <th>4</th>\n",
              "      <td>Grande Goiabeiras</td>\n",
              "      <td>500.02</td>\n",
              "      <td>MTV4311</td>\n",
              "    </tr>\n",
              "    <tr>\n",
              "      <th>5</th>\n",
              "      <td>Grande Goiabeiras</td>\n",
              "      <td>535.90</td>\n",
              "      <td>MTR3338</td>\n",
              "    </tr>\n",
              "    <tr>\n",
              "      <th>6</th>\n",
              "      <td>Colina de Laranjeiras</td>\n",
              "      <td>614.00</td>\n",
              "      <td>MQZ8687</td>\n",
              "    </tr>\n",
              "  </tbody>\n",
              "</table>\n",
              "</div>"
            ],
            "text/plain": [
              "                  bairro  volumet_coletado    placa\n",
              "0      Centro de Vitória             90.00  MQZ8687\n",
              "1               Carapina            294.00  MTR3338\n",
              "2       Porto de Santana            297.00  MQZ8687\n",
              "3      Centro de Vitória            409.50  MTV4311\n",
              "4      Grande Goiabeiras            500.02  MTV4311\n",
              "5      Grande Goiabeiras            535.90  MTR3338\n",
              "6  Colina de Laranjeiras            614.00  MQZ8687"
            ]
          },
          "metadata": {
            "tags": []
          },
          "execution_count": 119
        }
      ]
    },
    {
      "cell_type": "code",
      "metadata": {
        "id": "g4D7wHwpb9JA",
        "colab_type": "code",
        "outputId": "78820d02-9e83-4fe8-ff18-3030c1afc38d",
        "colab": {
          "base_uri": "https://localhost:8080/",
          "height": 523
        }
      },
      "source": [
        "df = relat1\n",
        "sns.catplot(x=\"volumet_coletado\", y=\"bairro\", col=\"placa\",\n",
        "                data=df, saturation=.5,\n",
        "                kind=\"bar\", ci=None, aspect=.8, palette= \"husl\")\n",
        "\n",
        "      "
      ],
      "execution_count": 120,
      "outputs": [
        {
          "output_type": "execute_result",
          "data": {
            "text/plain": [
              "<seaborn.axisgrid.FacetGrid at 0x7fed1461ebe0>"
            ]
          },
          "metadata": {
            "tags": []
          },
          "execution_count": 120
        },
        {
          "output_type": "display_data",
          "data": {
            "image/png": "[encoded data removed]",
            "text/plain": [
              "<Figure size 1200x500 with 3 Axes>"
            ]
          },
          "metadata": {
            "tags": []
          }
        }
      ]
    },
    {
      "cell_type": "markdown",
      "metadata": {
        "id": "uplbFGGBzE3k",
        "colab_type": "text"
      },
      "source": [
        "####O gráfico mostra o volume coletado por bairro para cada caminhão, representado por sua placa. Fica claro que um mesmo caminhão é alocado para realizar rotas em 2 a 3 bairros distintos e que em cada bairro a coleta é realizada por 1 ou 2 caminhões diferentes.\n",
        "\n"
      ]
    },
    {
      "cell_type": "markdown",
      "metadata": {
        "id": "jbCS5UtLctIn",
        "colab_type": "text"
      },
      "source": [
        "# Relatório 2"
      ]
    },
    {
      "cell_type": "markdown",
      "metadata": {
        "id": "TPR783oRctIp",
        "colab_type": "text"
      },
      "source": [
        "### Objetivo: Obter a quantidade de descartes e o volume descartado em determinada lixeira, por dia"
      ]
    },
    {
      "cell_type": "markdown",
      "metadata": {
        "id": "eSGcHP80ctIq",
        "colab_type": "text"
      },
      "source": [
        "Código para obtenção do resultado:"
      ]
    },
    {
      "cell_type": "code",
      "metadata": {
        "id": "Ow0phuT-ctIr",
        "colab_type": "code",
        "colab": {}
      },
      "source": [
        "relat2 = pd.read_sql_query(\"\"\"\n",
        "                            SELECT\n",
        "                              lixeira.cod_lixeira,\n",
        "                              bairro.nome as bairro,\n",
        "                              count(DESCARTE.cod_lixeira) as qnt_descarte,\n",
        "                              sum(DESCARTE.volume) as volume_total,\n",
        "                              data_descarte\n",
        "                              FROM descarte\n",
        "                              INNER JOIN lixeira ON (descarte.cod_lixeira = lixeira.cod_lixeira)\n",
        "                              INNER JOIN bairro ON (lixeira.cod_bairro = bairro.cod_bairro)\n",
        "                              GROUP BY bairro.cod_bairro, lixeira.cod_lixeira, data_descarte\n",
        "                              ORDER BY bairro.nome\n",
        "                            \n",
        "                            \"\"\", conn)\n"
      ],
      "execution_count": 0,
      "outputs": []
    },
    {
      "cell_type": "code",
      "metadata": {
        "id": "aI_8-FNwctIu",
        "colab_type": "code",
        "outputId": "464b48f8-7852-4739-ac5b-dc52238c8451",
        "colab": {
          "base_uri": "https://localhost:8080/",
          "height": 1258
        }
      },
      "source": [
        "relat2"
      ],
      "execution_count": 178,
      "outputs": [
        {
          "output_type": "execute_result",
          "data": {
            "text/html": [
              "<div>\n",
              "<style scoped>\n",
              "    .dataframe tbody tr th:only-of-type {\n",
              "        vertical-align: middle;\n",
              "    }\n",
              "\n",
              "    .dataframe tbody tr th {\n",
              "        vertical-align: top;\n",
              "    }\n",
              "\n",
              "    .dataframe thead th {\n",
              "        text-align: right;\n",
              "    }\n",
              "</style>\n",
              "<table border=\"1\" class=\"dataframe\">\n",
              "  <thead>\n",
              "    <tr style=\"text-align: right;\">\n",
              "      <th></th>\n",
              "      <th>cod_lixeira</th>\n",
              "      <th>bairro</th>\n",
              "      <th>qnt_descarte</th>\n",
              "      <th>volume_total</th>\n",
              "      <th>data_descarte</th>\n",
              "    </tr>\n",
              "  </thead>\n",
              "  <tbody>\n",
              "    <tr>\n",
              "      <th>0</th>\n",
              "      <td>23</td>\n",
              "      <td>Carapina</td>\n",
              "      <td>1</td>\n",
              "      <td>33.300000</td>\n",
              "      <td>2019-03-30</td>\n",
              "    </tr>\n",
              "    <tr>\n",
              "      <th>1</th>\n",
              "      <td>23</td>\n",
              "      <td>Carapina</td>\n",
              "      <td>2</td>\n",
              "      <td>58.300000</td>\n",
              "      <td>2019-03-31</td>\n",
              "    </tr>\n",
              "    <tr>\n",
              "      <th>2</th>\n",
              "      <td>22</td>\n",
              "      <td>Carapina</td>\n",
              "      <td>3</td>\n",
              "      <td>100.400000</td>\n",
              "      <td>2019-03-31</td>\n",
              "    </tr>\n",
              "    <tr>\n",
              "      <th>3</th>\n",
              "      <td>22</td>\n",
              "      <td>Carapina</td>\n",
              "      <td>1</td>\n",
              "      <td>5.100000</td>\n",
              "      <td>2019-04-21</td>\n",
              "    </tr>\n",
              "    <tr>\n",
              "      <th>4</th>\n",
              "      <td>21</td>\n",
              "      <td>Carapina</td>\n",
              "      <td>1</td>\n",
              "      <td>22.000000</td>\n",
              "      <td>2019-03-31</td>\n",
              "    </tr>\n",
              "    <tr>\n",
              "      <th>5</th>\n",
              "      <td>21</td>\n",
              "      <td>Carapina</td>\n",
              "      <td>3</td>\n",
              "      <td>80.000000</td>\n",
              "      <td>2019-03-30</td>\n",
              "    </tr>\n",
              "    <tr>\n",
              "      <th>6</th>\n",
              "      <td>10</td>\n",
              "      <td>Centro de Vitória</td>\n",
              "      <td>1</td>\n",
              "      <td>66.666667</td>\n",
              "      <td>2019-03-27</td>\n",
              "    </tr>\n",
              "    <tr>\n",
              "      <th>7</th>\n",
              "      <td>8</td>\n",
              "      <td>Centro de Vitória</td>\n",
              "      <td>1</td>\n",
              "      <td>19.800000</td>\n",
              "      <td>2019-03-26</td>\n",
              "    </tr>\n",
              "    <tr>\n",
              "      <th>8</th>\n",
              "      <td>11</td>\n",
              "      <td>Centro de Vitória</td>\n",
              "      <td>1</td>\n",
              "      <td>30.000000</td>\n",
              "      <td>2019-03-27</td>\n",
              "    </tr>\n",
              "    <tr>\n",
              "      <th>9</th>\n",
              "      <td>7</td>\n",
              "      <td>Centro de Vitória</td>\n",
              "      <td>1</td>\n",
              "      <td>30.100000</td>\n",
              "      <td>2019-03-25</td>\n",
              "    </tr>\n",
              "    <tr>\n",
              "      <th>10</th>\n",
              "      <td>7</td>\n",
              "      <td>Centro de Vitória</td>\n",
              "      <td>1</td>\n",
              "      <td>16.000000</td>\n",
              "      <td>2019-05-19</td>\n",
              "    </tr>\n",
              "    <tr>\n",
              "      <th>11</th>\n",
              "      <td>7</td>\n",
              "      <td>Centro de Vitória</td>\n",
              "      <td>1</td>\n",
              "      <td>21.000000</td>\n",
              "      <td>2019-03-30</td>\n",
              "    </tr>\n",
              "    <tr>\n",
              "      <th>12</th>\n",
              "      <td>9</td>\n",
              "      <td>Centro de Vitória</td>\n",
              "      <td>1</td>\n",
              "      <td>40.000000</td>\n",
              "      <td>2019-03-27</td>\n",
              "    </tr>\n",
              "    <tr>\n",
              "      <th>13</th>\n",
              "      <td>12</td>\n",
              "      <td>Colina de Laranjeiras</td>\n",
              "      <td>1</td>\n",
              "      <td>32.000000</td>\n",
              "      <td>2019-03-27</td>\n",
              "    </tr>\n",
              "    <tr>\n",
              "      <th>14</th>\n",
              "      <td>16</td>\n",
              "      <td>Colina de Laranjeiras</td>\n",
              "      <td>1</td>\n",
              "      <td>14.000000</td>\n",
              "      <td>2019-04-20</td>\n",
              "    </tr>\n",
              "    <tr>\n",
              "      <th>15</th>\n",
              "      <td>16</td>\n",
              "      <td>Colina de Laranjeiras</td>\n",
              "      <td>3</td>\n",
              "      <td>60.000000</td>\n",
              "      <td>2019-03-27</td>\n",
              "    </tr>\n",
              "    <tr>\n",
              "      <th>16</th>\n",
              "      <td>13</td>\n",
              "      <td>Colina de Laranjeiras</td>\n",
              "      <td>1</td>\n",
              "      <td>36.666667</td>\n",
              "      <td>2019-03-27</td>\n",
              "    </tr>\n",
              "    <tr>\n",
              "      <th>17</th>\n",
              "      <td>15</td>\n",
              "      <td>Colina de Laranjeiras</td>\n",
              "      <td>3</td>\n",
              "      <td>127.800000</td>\n",
              "      <td>2019-03-27</td>\n",
              "    </tr>\n",
              "    <tr>\n",
              "      <th>18</th>\n",
              "      <td>12</td>\n",
              "      <td>Colina de Laranjeiras</td>\n",
              "      <td>1</td>\n",
              "      <td>21.666667</td>\n",
              "      <td>2019-04-20</td>\n",
              "    </tr>\n",
              "    <tr>\n",
              "      <th>19</th>\n",
              "      <td>14</td>\n",
              "      <td>Colina de Laranjeiras</td>\n",
              "      <td>1</td>\n",
              "      <td>33.333333</td>\n",
              "      <td>2019-03-27</td>\n",
              "    </tr>\n",
              "    <tr>\n",
              "      <th>20</th>\n",
              "      <td>1</td>\n",
              "      <td>Grande Goiabeiras</td>\n",
              "      <td>1</td>\n",
              "      <td>18.000000</td>\n",
              "      <td>2019-04-19</td>\n",
              "    </tr>\n",
              "    <tr>\n",
              "      <th>21</th>\n",
              "      <td>1</td>\n",
              "      <td>Grande Goiabeiras</td>\n",
              "      <td>2</td>\n",
              "      <td>79.400000</td>\n",
              "      <td>2019-03-31</td>\n",
              "    </tr>\n",
              "    <tr>\n",
              "      <th>22</th>\n",
              "      <td>3</td>\n",
              "      <td>Grande Goiabeiras</td>\n",
              "      <td>4</td>\n",
              "      <td>95.533333</td>\n",
              "      <td>2019-03-21</td>\n",
              "    </tr>\n",
              "    <tr>\n",
              "      <th>23</th>\n",
              "      <td>4</td>\n",
              "      <td>Grande Goiabeiras</td>\n",
              "      <td>1</td>\n",
              "      <td>27.500000</td>\n",
              "      <td>2019-03-30</td>\n",
              "    </tr>\n",
              "    <tr>\n",
              "      <th>24</th>\n",
              "      <td>5</td>\n",
              "      <td>Grande Goiabeiras</td>\n",
              "      <td>1</td>\n",
              "      <td>15.000000</td>\n",
              "      <td>2019-04-01</td>\n",
              "    </tr>\n",
              "    <tr>\n",
              "      <th>25</th>\n",
              "      <td>3</td>\n",
              "      <td>Grande Goiabeiras</td>\n",
              "      <td>2</td>\n",
              "      <td>21.200000</td>\n",
              "      <td>2019-04-21</td>\n",
              "    </tr>\n",
              "    <tr>\n",
              "      <th>26</th>\n",
              "      <td>2</td>\n",
              "      <td>Grande Goiabeiras</td>\n",
              "      <td>4</td>\n",
              "      <td>151.333333</td>\n",
              "      <td>2019-03-20</td>\n",
              "    </tr>\n",
              "    <tr>\n",
              "      <th>27</th>\n",
              "      <td>5</td>\n",
              "      <td>Grande Goiabeiras</td>\n",
              "      <td>1</td>\n",
              "      <td>23.333333</td>\n",
              "      <td>2019-03-23</td>\n",
              "    </tr>\n",
              "    <tr>\n",
              "      <th>28</th>\n",
              "      <td>4</td>\n",
              "      <td>Grande Goiabeiras</td>\n",
              "      <td>2</td>\n",
              "      <td>88.200000</td>\n",
              "      <td>2019-03-31</td>\n",
              "    </tr>\n",
              "    <tr>\n",
              "      <th>29</th>\n",
              "      <td>4</td>\n",
              "      <td>Grande Goiabeiras</td>\n",
              "      <td>3</td>\n",
              "      <td>61.900000</td>\n",
              "      <td>2019-03-22</td>\n",
              "    </tr>\n",
              "    <tr>\n",
              "      <th>30</th>\n",
              "      <td>1</td>\n",
              "      <td>Grande Goiabeiras</td>\n",
              "      <td>3</td>\n",
              "      <td>144.000000</td>\n",
              "      <td>2019-03-19</td>\n",
              "    </tr>\n",
              "    <tr>\n",
              "      <th>31</th>\n",
              "      <td>2</td>\n",
              "      <td>Grande Goiabeiras</td>\n",
              "      <td>1</td>\n",
              "      <td>22.100000</td>\n",
              "      <td>2019-04-01</td>\n",
              "    </tr>\n",
              "    <tr>\n",
              "      <th>32</th>\n",
              "      <td>2</td>\n",
              "      <td>Grande Goiabeiras</td>\n",
              "      <td>2</td>\n",
              "      <td>26.000000</td>\n",
              "      <td>2019-04-20</td>\n",
              "    </tr>\n",
              "    <tr>\n",
              "      <th>33</th>\n",
              "      <td>6</td>\n",
              "      <td>Grande Goiabeiras</td>\n",
              "      <td>2</td>\n",
              "      <td>82.200000</td>\n",
              "      <td>2019-03-31</td>\n",
              "    </tr>\n",
              "    <tr>\n",
              "      <th>34</th>\n",
              "      <td>2</td>\n",
              "      <td>Grande Goiabeiras</td>\n",
              "      <td>1</td>\n",
              "      <td>8.900000</td>\n",
              "      <td>2019-04-22</td>\n",
              "    </tr>\n",
              "    <tr>\n",
              "      <th>35</th>\n",
              "      <td>6</td>\n",
              "      <td>Grande Goiabeiras</td>\n",
              "      <td>1</td>\n",
              "      <td>40.000000</td>\n",
              "      <td>2019-03-24</td>\n",
              "    </tr>\n",
              "    <tr>\n",
              "      <th>36</th>\n",
              "      <td>3</td>\n",
              "      <td>Grande Goiabeiras</td>\n",
              "      <td>1</td>\n",
              "      <td>20.000000</td>\n",
              "      <td>2019-04-19</td>\n",
              "    </tr>\n",
              "    <tr>\n",
              "      <th>37</th>\n",
              "      <td>17</td>\n",
              "      <td>Porto de Santana</td>\n",
              "      <td>4</td>\n",
              "      <td>98.933333</td>\n",
              "      <td>2019-03-27</td>\n",
              "    </tr>\n",
              "    <tr>\n",
              "      <th>38</th>\n",
              "      <td>17</td>\n",
              "      <td>Porto de Santana</td>\n",
              "      <td>1</td>\n",
              "      <td>15.100000</td>\n",
              "      <td>2019-04-21</td>\n",
              "    </tr>\n",
              "  </tbody>\n",
              "</table>\n",
              "</div>"
            ],
            "text/plain": [
              "    cod_lixeira                 bairro  ...  volume_total  data_descarte\n",
              "0            23               Carapina  ...     33.300000     2019-03-30\n",
              "1            23               Carapina  ...     58.300000     2019-03-31\n",
              "2            22               Carapina  ...    100.400000     2019-03-31\n",
              "3            22               Carapina  ...      5.100000     2019-04-21\n",
              "4            21               Carapina  ...     22.000000     2019-03-31\n",
              "5            21               Carapina  ...     80.000000     2019-03-30\n",
              "6            10      Centro de Vitória  ...     66.666667     2019-03-27\n",
              "7             8      Centro de Vitória  ...     19.800000     2019-03-26\n",
              "8            11      Centro de Vitória  ...     30.000000     2019-03-27\n",
              "9             7      Centro de Vitória  ...     30.100000     2019-03-25\n",
              "10            7      Centro de Vitória  ...     16.000000     2019-05-19\n",
              "11            7      Centro de Vitória  ...     21.000000     2019-03-30\n",
              "12            9      Centro de Vitória  ...     40.000000     2019-03-27\n",
              "13           12  Colina de Laranjeiras  ...     32.000000     2019-03-27\n",
              "14           16  Colina de Laranjeiras  ...     14.000000     2019-04-20\n",
              "15           16  Colina de Laranjeiras  ...     60.000000     2019-03-27\n",
              "16           13  Colina de Laranjeiras  ...     36.666667     2019-03-27\n",
              "17           15  Colina de Laranjeiras  ...    127.800000     2019-03-27\n",
              "18           12  Colina de Laranjeiras  ...     21.666667     2019-04-20\n",
              "19           14  Colina de Laranjeiras  ...     33.333333     2019-03-27\n",
              "20            1      Grande Goiabeiras  ...     18.000000     2019-04-19\n",
              "21            1      Grande Goiabeiras  ...     79.400000     2019-03-31\n",
              "22            3      Grande Goiabeiras  ...     95.533333     2019-03-21\n",
              "23            4      Grande Goiabeiras  ...     27.500000     2019-03-30\n",
              "24            5      Grande Goiabeiras  ...     15.000000     2019-04-01\n",
              "25            3      Grande Goiabeiras  ...     21.200000     2019-04-21\n",
              "26            2      Grande Goiabeiras  ...    151.333333     2019-03-20\n",
              "27            5      Grande Goiabeiras  ...     23.333333     2019-03-23\n",
              "28            4      Grande Goiabeiras  ...     88.200000     2019-03-31\n",
              "29            4      Grande Goiabeiras  ...     61.900000     2019-03-22\n",
              "30            1      Grande Goiabeiras  ...    144.000000     2019-03-19\n",
              "31            2      Grande Goiabeiras  ...     22.100000     2019-04-01\n",
              "32            2      Grande Goiabeiras  ...     26.000000     2019-04-20\n",
              "33            6      Grande Goiabeiras  ...     82.200000     2019-03-31\n",
              "34            2      Grande Goiabeiras  ...      8.900000     2019-04-22\n",
              "35            6      Grande Goiabeiras  ...     40.000000     2019-03-24\n",
              "36            3      Grande Goiabeiras  ...     20.000000     2019-04-19\n",
              "37           17       Porto de Santana  ...     98.933333     2019-03-27\n",
              "38           17       Porto de Santana  ...     15.100000     2019-04-21\n",
              "\n",
              "[39 rows x 5 columns]"
            ]
          },
          "metadata": {
            "tags": []
          },
          "execution_count": 178
        }
      ]
    },
    {
      "cell_type": "code",
      "metadata": {
        "id": "iyZBaGZDnIp1",
        "colab_type": "code",
        "colab": {
          "base_uri": "https://localhost:8080/",
          "height": 489
        },
        "outputId": "12eb929c-ed91-4a4d-e046-4a4ec3a82675"
      },
      "source": [
        "df = relat2\n",
        "sns.distplot(df.volume_total, kde=False, rug =True, color = \"b\")\n",
        "plt.title('Distribuição de descarte diário')\n",
        "plt.ylabel('Quantidade de itens na faixa')\n",
        "plt.xlabel('Volume total')\n",
        "\n"
      ],
      "execution_count": 170,
      "outputs": [
        {
          "output_type": "execute_result",
          "data": {
            "text/plain": [
              "Text(0.5, 0, 'Volume total')"
            ]
          },
          "metadata": {
            "tags": []
          },
          "execution_count": 170
        },
        {
          "output_type": "display_data",
          "data": {
            "image/png": "[encoded data removed]",
            "text/plain": [
              "<Figure size 640x480 with 1 Axes>"
            ]
          },
          "metadata": {
            "tags": []
          }
        }
      ]
    },
    {
      "cell_type": "markdown",
      "metadata": {
        "id": "QN_7VoCnuXR9",
        "colab_type": "text"
      },
      "source": [
        "####O histograma representa a distribuição do volume descartado nas lixeiras diariamente. Pelo gráfico de distribuição de descarte diário, fica claro que na maioria das vezes uma lixeira recebe de 5 a 60 litros de resíduos diariamente."
      ]
    },
    {
      "cell_type": "markdown",
      "metadata": {
        "id": "c8aV2I7E9FR-",
        "colab_type": "text"
      },
      "source": [
        "#Relatório 3 "
      ]
    },
    {
      "cell_type": "markdown",
      "metadata": {
        "id": "R1IxxtLx9Kjc",
        "colab_type": "text"
      },
      "source": [
        "###Objetivo: Identificar a quantidade de operações de descarte e o volume total descartado por bairro.\n"
      ]
    },
    {
      "cell_type": "code",
      "metadata": {
        "id": "1RDeKZ0S9Oph",
        "colab_type": "code",
        "colab": {}
      },
      "source": [
        "relat3 = pd.read_sql_query(\"\"\"\n",
        "                            SELECT\n",
        "                              bairro.nome as bairro,\n",
        "                              count(DESCARTE.cod_lixeira) as qnt_descarte,\n",
        "                              sum(DESCARTE.volume) as volume_total\n",
        "                              FROM descarte\n",
        "                              INNER JOIN lixeira ON (descarte.cod_lixeira = lixeira.cod_lixeira)\n",
        "                              INNER JOIN bairro ON (lixeira.cod_bairro = bairro.cod_bairro)\n",
        "                              GROUP BY bairro.nome\n",
        "                              ORDER BY volume_total DESC\n",
        "                            \n",
        "                            \"\"\", conn)                            "
      ],
      "execution_count": 0,
      "outputs": []
    },
    {
      "cell_type": "code",
      "metadata": {
        "id": "vjYlHDsw-H7d",
        "colab_type": "code",
        "outputId": "972bc0de-3b31-47ad-cf91-944c1d73231b",
        "colab": {
          "base_uri": "https://localhost:8080/",
          "height": 204
        }
      },
      "source": [
        "relat3"
      ],
      "execution_count": 125,
      "outputs": [
        {
          "output_type": "execute_result",
          "data": {
            "text/html": [
              "<div>\n",
              "<style scoped>\n",
              "    .dataframe tbody tr th:only-of-type {\n",
              "        vertical-align: middle;\n",
              "    }\n",
              "\n",
              "    .dataframe tbody tr th {\n",
              "        vertical-align: top;\n",
              "    }\n",
              "\n",
              "    .dataframe thead th {\n",
              "        text-align: right;\n",
              "    }\n",
              "</style>\n",
              "<table border=\"1\" class=\"dataframe\">\n",
              "  <thead>\n",
              "    <tr style=\"text-align: right;\">\n",
              "      <th></th>\n",
              "      <th>bairro</th>\n",
              "      <th>qnt_descarte</th>\n",
              "      <th>volume_total</th>\n",
              "    </tr>\n",
              "  </thead>\n",
              "  <tbody>\n",
              "    <tr>\n",
              "      <th>0</th>\n",
              "      <td>Grande Goiabeiras</td>\n",
              "      <td>32</td>\n",
              "      <td>924.600000</td>\n",
              "    </tr>\n",
              "    <tr>\n",
              "      <th>1</th>\n",
              "      <td>Colina de Laranjeiras</td>\n",
              "      <td>11</td>\n",
              "      <td>325.466667</td>\n",
              "    </tr>\n",
              "    <tr>\n",
              "      <th>2</th>\n",
              "      <td>Carapina</td>\n",
              "      <td>11</td>\n",
              "      <td>299.100000</td>\n",
              "    </tr>\n",
              "    <tr>\n",
              "      <th>3</th>\n",
              "      <td>Centro de Vitória</td>\n",
              "      <td>7</td>\n",
              "      <td>223.566667</td>\n",
              "    </tr>\n",
              "    <tr>\n",
              "      <th>4</th>\n",
              "      <td>Porto de Santana</td>\n",
              "      <td>5</td>\n",
              "      <td>114.033333</td>\n",
              "    </tr>\n",
              "  </tbody>\n",
              "</table>\n",
              "</div>"
            ],
            "text/plain": [
              "                  bairro  qnt_descarte  volume_total\n",
              "0      Grande Goiabeiras            32    924.600000\n",
              "1  Colina de Laranjeiras            11    325.466667\n",
              "2               Carapina            11    299.100000\n",
              "3      Centro de Vitória             7    223.566667\n",
              "4       Porto de Santana             5    114.033333"
            ]
          },
          "metadata": {
            "tags": []
          },
          "execution_count": 125
        }
      ]
    },
    {
      "cell_type": "code",
      "metadata": {
        "id": "GtmzF_xI-OT4",
        "colab_type": "code",
        "outputId": "9bca9a4d-50c1-4dc0-fc0e-baab641a19e7",
        "colab": {
          "base_uri": "https://localhost:8080/",
          "height": 542
        }
      },
      "source": [
        "df = relat3\n",
        "sns.catplot(x=\"qnt_descarte\", y=\"volume_total\", hue=\"bairro\", data=relat3, kind=\"bar\", palette= \"husl\")\n",
        "plt.title('Quantidade total de descartes')\n",
        "plt.ylabel('Volume Total')\n",
        "plt.xlabel('Quantidade de descarte')\n"
      ],
      "execution_count": 126,
      "outputs": [
        {
          "output_type": "execute_result",
          "data": {
            "text/plain": [
              "Text(0.5, 29.140624999999986, 'Quantidade de descarte')"
            ]
          },
          "metadata": {
            "tags": []
          },
          "execution_count": 126
        },
        {
          "output_type": "display_data",
          "data": {
            "image/png": "[encoded data removed]",
            "text/plain": [
              "<Figure size 696.875x500 with 1 Axes>"
            ]
          },
          "metadata": {
            "tags": []
          }
        }
      ]
    },
    {
      "cell_type": "markdown",
      "metadata": {
        "id": "0wDk9HEewnYD",
        "colab_type": "text"
      },
      "source": [
        "####O gráfico mostra a quantidade de descartes e o seu volume total, agrupados por bairros.\n",
        "\n",
        "####Pelo gráfico de Quantidade total de descarte fica percepitível que o relatório 2  é condizente, uma vez que existe uma tendência clara de que em bairros com maior quantidade de descarte apresentam um somatório maior proporcionalmente. Isto é operações de descarte seguem um padrão para o volume descartado."
      ]
    },
    {
      "cell_type": "markdown",
      "metadata": {
        "id": "SJ3FFTihctIy",
        "colab_type": "text"
      },
      "source": [
        "## Relatório 4\n"
      ]
    },
    {
      "cell_type": "markdown",
      "metadata": {
        "id": "HifgIzkkctIy",
        "colab_type": "text"
      },
      "source": [
        "### Objetivo: Mostrar quantas vezes cada caminhão foi alocado, verificar quais estão sendo mais utilizados e os dados (placa, modelo, marca) dos mesmos"
      ]
    },
    {
      "cell_type": "markdown",
      "metadata": {
        "id": "Ww-0ryVRctI1",
        "colab_type": "text"
      },
      "source": [
        "Código para obtenção do resultado:"
      ]
    },
    {
      "cell_type": "code",
      "metadata": {
        "id": "ZGSRTyHHctI2",
        "colab_type": "code",
        "colab": {}
      },
      "source": [
        "relat4 = pd.read_sql_query(\"\"\"\n",
        "\n",
        "                            SELECT\n",
        "                                placa,\n",
        "                                MODELO.nome AS modelo,\n",
        "                                MARCA.nome AS marca,\n",
        "                                count(ALOCA.cod_caminhao) AS qnt_aloca\n",
        "                              FROM CAMINHAO\n",
        "                              LEFT JOIN ALOCA ON (CAMINHAO.cod_caminhao = ALOCA.cod_caminhao)\n",
        "                              INNER JOIN MODELO ON (CAMINHAO.cod_modelo = MODELO.cod_modelo)\n",
        "                              INNER JOIN MARCA ON (MODELO.cod_marca = MARCA.cod_marca)\n",
        "                              GROUP BY CAMINHAO.cod_caminhao, ALOCA.cod_caminhao, MODELO.cod_modelo, MARCA.cod_marca\n",
        "                              ORDER BY qnt_aloca DESC\n",
        "                            \n",
        "                            \"\"\",conn)"
      ],
      "execution_count": 0,
      "outputs": []
    },
    {
      "cell_type": "code",
      "metadata": {
        "id": "iXfaNspMHKZn",
        "colab_type": "code",
        "colab": {
          "base_uri": "https://localhost:8080/",
          "height": 390
        },
        "outputId": "1cfc7235-ba57-4915-af13-5b3a415a1b4e"
      },
      "source": [
        "relat4"
      ],
      "execution_count": 141,
      "outputs": [
        {
          "output_type": "execute_result",
          "data": {
            "text/html": [
              "<div>\n",
              "<style scoped>\n",
              "    .dataframe tbody tr th:only-of-type {\n",
              "        vertical-align: middle;\n",
              "    }\n",
              "\n",
              "    .dataframe tbody tr th {\n",
              "        vertical-align: top;\n",
              "    }\n",
              "\n",
              "    .dataframe thead th {\n",
              "        text-align: right;\n",
              "    }\n",
              "</style>\n",
              "<table border=\"1\" class=\"dataframe\">\n",
              "  <thead>\n",
              "    <tr style=\"text-align: right;\">\n",
              "      <th></th>\n",
              "      <th>placa</th>\n",
              "      <th>modelo</th>\n",
              "      <th>marca</th>\n",
              "      <th>qnt_aloca</th>\n",
              "    </tr>\n",
              "  </thead>\n",
              "  <tbody>\n",
              "    <tr>\n",
              "      <th>0</th>\n",
              "      <td>MTR3338</td>\n",
              "      <td>2540</td>\n",
              "      <td>Mercedes Benz</td>\n",
              "      <td>3</td>\n",
              "    </tr>\n",
              "    <tr>\n",
              "      <th>1</th>\n",
              "      <td>MTB1361</td>\n",
              "      <td>G 440</td>\n",
              "      <td>Scania</td>\n",
              "      <td>2</td>\n",
              "    </tr>\n",
              "    <tr>\n",
              "      <th>2</th>\n",
              "      <td>MSG4883</td>\n",
              "      <td>P94 360</td>\n",
              "      <td>Scania</td>\n",
              "      <td>2</td>\n",
              "    </tr>\n",
              "    <tr>\n",
              "      <th>3</th>\n",
              "      <td>MTV4311</td>\n",
              "      <td>MB Axor 2036</td>\n",
              "      <td>Mercedes Benz</td>\n",
              "      <td>2</td>\n",
              "    </tr>\n",
              "    <tr>\n",
              "      <th>4</th>\n",
              "      <td>MRB6206</td>\n",
              "      <td>FH12 380</td>\n",
              "      <td>Volvo</td>\n",
              "      <td>2</td>\n",
              "    </tr>\n",
              "    <tr>\n",
              "      <th>5</th>\n",
              "      <td>MSZ7251</td>\n",
              "      <td>FH12 380</td>\n",
              "      <td>Volvo</td>\n",
              "      <td>2</td>\n",
              "    </tr>\n",
              "    <tr>\n",
              "      <th>6</th>\n",
              "      <td>MQZ8687</td>\n",
              "      <td>G 440</td>\n",
              "      <td>Scania</td>\n",
              "      <td>2</td>\n",
              "    </tr>\n",
              "    <tr>\n",
              "      <th>7</th>\n",
              "      <td>MRP5441</td>\n",
              "      <td>VW 8150</td>\n",
              "      <td>Volkswagen</td>\n",
              "      <td>1</td>\n",
              "    </tr>\n",
              "    <tr>\n",
              "      <th>8</th>\n",
              "      <td>MRY5351</td>\n",
              "      <td>VM 270</td>\n",
              "      <td>Volvo</td>\n",
              "      <td>1</td>\n",
              "    </tr>\n",
              "    <tr>\n",
              "      <th>9</th>\n",
              "      <td>MRF7474</td>\n",
              "      <td>VW 13180</td>\n",
              "      <td>Volkswagen</td>\n",
              "      <td>1</td>\n",
              "    </tr>\n",
              "    <tr>\n",
              "      <th>10</th>\n",
              "      <td>MSI6750</td>\n",
              "      <td>VW 8150</td>\n",
              "      <td>Volkswagen</td>\n",
              "      <td>0</td>\n",
              "    </tr>\n",
              "  </tbody>\n",
              "</table>\n",
              "</div>"
            ],
            "text/plain": [
              "      placa        modelo          marca  qnt_aloca\n",
              "0   MTR3338          2540  Mercedes Benz          3\n",
              "1   MTB1361         G 440         Scania          2\n",
              "2   MSG4883       P94 360         Scania          2\n",
              "3   MTV4311  MB Axor 2036  Mercedes Benz          2\n",
              "4   MRB6206      FH12 380          Volvo          2\n",
              "5   MSZ7251      FH12 380          Volvo          2\n",
              "6   MQZ8687         G 440         Scania          2\n",
              "7   MRP5441       VW 8150     Volkswagen          1\n",
              "8   MRY5351        VM 270          Volvo          1\n",
              "9   MRF7474      VW 13180     Volkswagen          1\n",
              "10  MSI6750       VW 8150     Volkswagen          0"
            ]
          },
          "metadata": {
            "tags": []
          },
          "execution_count": 141
        }
      ]
    },
    {
      "cell_type": "code",
      "metadata": {
        "id": "czCBhPuectI7",
        "colab_type": "code",
        "outputId": "776d7b49-1cc1-43ab-b840-bb00c8345412",
        "colab": {
          "base_uri": "https://localhost:8080/",
          "height": 542
        }
      },
      "source": [
        "df = relat4\n",
        "sns.catplot(y=\"modelo\", x=\"qnt_aloca\", hue=\"placa\", data=df, kind=\"bar\", palette= \"Paired\",)\n",
        "plt.title('Alocação de caminhão')"
      ],
      "execution_count": 144,
      "outputs": [
        {
          "output_type": "execute_result",
          "data": {
            "text/plain": [
              "Text(0.5, 1.0, 'Alocação de caminhão')"
            ]
          },
          "metadata": {
            "tags": []
          },
          "execution_count": 144
        },
        {
          "output_type": "display_data",
          "data": {
            "image/png": "[encoded data removed]",
            "text/plain": [
              "<Figure size 617.75x500 with 1 Axes>"
            ]
          },
          "metadata": {
            "tags": []
          }
        }
      ]
    },
    {
      "cell_type": "markdown",
      "metadata": {
        "id": "J9HCRbcO5JaO",
        "colab_type": "text"
      },
      "source": [
        "####O gráfico mostra a quantidades de vezes em que cada caminhão foi alocado. É possível notar que o modelo 2540 é o mais alocado e que o caminhão com placa MSI6750 não teve nenhuma alocação"
      ]
    },
    {
      "cell_type": "markdown",
      "metadata": {
        "id": "EfJqg3sfctI-",
        "colab_type": "text"
      },
      "source": [
        "## Relatório 5"
      ]
    },
    {
      "cell_type": "markdown",
      "metadata": {
        "id": "i8f_Unv-ctJA",
        "colab_type": "text"
      },
      "source": [
        "### Objetivo: Verificar a quantidade de lixeiras em cada Status Operacional"
      ]
    },
    {
      "cell_type": "markdown",
      "metadata": {
        "id": "aRwujwqEctJC",
        "colab_type": "text"
      },
      "source": [
        "Código para obtenção do resultado:"
      ]
    },
    {
      "cell_type": "code",
      "metadata": {
        "id": "zsx9hH3XctJD",
        "colab_type": "code",
        "colab": {}
      },
      "source": [
        "relat5 = pd.read_sql_query(\"\"\"\n",
        "\n",
        "                            SELECT \n",
        "                              status.descricao AS situacao_lixeira, \n",
        "                              count(SITUACAO_OPERACIONAL.cod_status) AS contagem\n",
        "                              FROM SITUACAO_OPERACIONAL\n",
        "                              INNER JOIN STATUS ON (SITUACAO_OPERACIONAL.cod_status = STATUS.cod_status)\n",
        "                              GROUP BY (STATUS.cod_status)\n",
        "                            ORDER BY contagem\n",
        "    \n",
        "                            \"\"\",conn)"
      ],
      "execution_count": 0,
      "outputs": []
    },
    {
      "cell_type": "code",
      "metadata": {
        "id": "u9jiAtwSctJH",
        "colab_type": "code",
        "outputId": "c3131377-259d-4518-b1a4-cc395256e751",
        "colab": {
          "base_uri": "https://localhost:8080/",
          "height": 111
        }
      },
      "source": [
        "relat5"
      ],
      "execution_count": 133,
      "outputs": [
        {
          "output_type": "execute_result",
          "data": {
            "text/html": [
              "<div>\n",
              "<style scoped>\n",
              "    .dataframe tbody tr th:only-of-type {\n",
              "        vertical-align: middle;\n",
              "    }\n",
              "\n",
              "    .dataframe tbody tr th {\n",
              "        vertical-align: top;\n",
              "    }\n",
              "\n",
              "    .dataframe thead th {\n",
              "        text-align: right;\n",
              "    }\n",
              "</style>\n",
              "<table border=\"1\" class=\"dataframe\">\n",
              "  <thead>\n",
              "    <tr style=\"text-align: right;\">\n",
              "      <th></th>\n",
              "      <th>situacao_lixeira</th>\n",
              "      <th>contagem</th>\n",
              "    </tr>\n",
              "  </thead>\n",
              "  <tbody>\n",
              "    <tr>\n",
              "      <th>0</th>\n",
              "      <td>Não atende a demanda</td>\n",
              "      <td>2</td>\n",
              "    </tr>\n",
              "    <tr>\n",
              "      <th>1</th>\n",
              "      <td>Quebrada</td>\n",
              "      <td>4</td>\n",
              "    </tr>\n",
              "  </tbody>\n",
              "</table>\n",
              "</div>"
            ],
            "text/plain": [
              "       situacao_lixeira  contagem\n",
              "0  Não atende a demanda         2\n",
              "1              Quebrada         4"
            ]
          },
          "metadata": {
            "tags": []
          },
          "execution_count": 133
        }
      ]
    },
    {
      "cell_type": "code",
      "metadata": {
        "id": "CRrUIt3UctJM",
        "colab_type": "code",
        "outputId": "12171459-c815-441c-88d9-d7902d1f72fc",
        "colab": {
          "base_uri": "https://localhost:8080/",
          "height": 452
        }
      },
      "source": [
        "df = pd.DataFrame(relat5)\n",
        "cm = sns.light_palette(\"blue\", as_cmap=True)\n",
        "df.style.background_gradient(cmap=cm)\n",
        " \n",
        "objects = tuple(df.situacao_lixeira)\n",
        "y_pos = np.arange(len(objects))\n",
        "performance = list(df.contagem)\n",
        " \n",
        "plt.bar(y_pos, performance, align='center', alpha=0.6, color = \"b\")\n",
        "plt.xticks(y_pos, objects)\n",
        "plt.ylabel('Quantidade de Lixeiras')\n",
        "plt.title('Status Operacional')\n",
        "\n",
        "plt.show()"
      ],
      "execution_count": 134,
      "outputs": [
        {
          "output_type": "display_data",
          "data": {
            "image/png": "[encoded data removed]",
            "text/plain": [
              "<Figure size 640x480 with 1 Axes>"
            ]
          },
          "metadata": {
            "tags": []
          }
        }
      ]
    },
    {
      "cell_type": "markdown",
      "metadata": {
        "id": "1PSpQokkctJP",
        "colab_type": "text"
      },
      "source": [
        "## Relatório 6"
      ]
    },
    {
      "cell_type": "markdown",
      "metadata": {
        "id": "oUQdbIgqctJQ",
        "colab_type": "text"
      },
      "source": [
        "#### Objetivo: Verificar quais lixeiras se encontram quebradas, para eventual troca, mostrando o código da lixeira, o bairro onde se encontra e suas coordenadas geográficas"
      ]
    },
    {
      "cell_type": "markdown",
      "metadata": {
        "id": "UdSyWBSfctJR",
        "colab_type": "text"
      },
      "source": [
        "Código para obtenção do resultado:"
      ]
    },
    {
      "cell_type": "code",
      "metadata": {
        "id": "gTaIdoPIctJS",
        "colab_type": "code",
        "colab": {}
      },
      "source": [
        "relat6 = pd.read_sql_query(\"\"\"\n",
        "                            SELECT \n",
        "                              LIXEIRA.cod_lixeira,\n",
        "                              BAIRRO.nome as bairro,\n",
        "                              'lat: '||LIXEIRA.latitude|| ' long: ' || LIXEIRA.longitude as localizacao\n",
        "                              FROM SITUACAO_OPERACIONAL\n",
        "                              INNER JOIN STATUS ON (SITUACAO_OPERACIONAL.cod_status = STATUS.cod_status)\n",
        "                              INNER JOIN COLETA ON (SITUACAO_OPERACIONAL.cod_coleta = COLETA.cod_coleta)\n",
        "                              INNER JOIN LIXEIRA ON (COLETA.cod_lixeira = LIXEIRA.cod_lixeira)\n",
        "                              INNER JOIN BAIRRO ON (LIXEIRA.cod_bairro = BAIRRO.cod_bairro)\n",
        "                              WHERE STATUS.descricao = 'Quebrada'\n",
        "                            \"\"\",conn)"
      ],
      "execution_count": 0,
      "outputs": []
    },
    {
      "cell_type": "code",
      "metadata": {
        "id": "cF7Trv98ctJa",
        "colab_type": "code",
        "outputId": "0af48d60-6799-477b-c33b-8316f1684b6d",
        "colab": {
          "base_uri": "https://localhost:8080/",
          "height": 173
        }
      },
      "source": [
        "relat6"
      ],
      "execution_count": 21,
      "outputs": [
        {
          "output_type": "execute_result",
          "data": {
            "text/html": [
              "<div>\n",
              "<style scoped>\n",
              "    .dataframe tbody tr th:only-of-type {\n",
              "        vertical-align: middle;\n",
              "    }\n",
              "\n",
              "    .dataframe tbody tr th {\n",
              "        vertical-align: top;\n",
              "    }\n",
              "\n",
              "    .dataframe thead th {\n",
              "        text-align: right;\n",
              "    }\n",
              "</style>\n",
              "<table border=\"1\" class=\"dataframe\">\n",
              "  <thead>\n",
              "    <tr style=\"text-align: right;\">\n",
              "      <th></th>\n",
              "      <th>cod_lixeira</th>\n",
              "      <th>bairro</th>\n",
              "      <th>localizacao</th>\n",
              "    </tr>\n",
              "  </thead>\n",
              "  <tbody>\n",
              "    <tr>\n",
              "      <th>0</th>\n",
              "      <td>9</td>\n",
              "      <td>Centro de Vitória</td>\n",
              "      <td>lat: -20.19695 long: -40.251233</td>\n",
              "    </tr>\n",
              "    <tr>\n",
              "      <th>1</th>\n",
              "      <td>10</td>\n",
              "      <td>Centro de Vitória</td>\n",
              "      <td>lat: -20.196958 long: -40.252933</td>\n",
              "    </tr>\n",
              "    <tr>\n",
              "      <th>2</th>\n",
              "      <td>13</td>\n",
              "      <td>Colina de Laranjeiras</td>\n",
              "      <td>lat: -20.193958 long: -40.193958</td>\n",
              "    </tr>\n",
              "    <tr>\n",
              "      <th>3</th>\n",
              "      <td>14</td>\n",
              "      <td>Colina de Laranjeiras</td>\n",
              "      <td>lat: -20.196958 long: -40.196958</td>\n",
              "    </tr>\n",
              "  </tbody>\n",
              "</table>\n",
              "</div>"
            ],
            "text/plain": [
              "   cod_lixeira                 bairro                       localizacao\n",
              "0            9      Centro de Vitória   lat: -20.19695 long: -40.251233\n",
              "1           10      Centro de Vitória  lat: -20.196958 long: -40.252933\n",
              "2           13  Colina de Laranjeiras  lat: -20.193958 long: -40.193958\n",
              "3           14  Colina de Laranjeiras  lat: -20.196958 long: -40.196958"
            ]
          },
          "metadata": {
            "tags": []
          },
          "execution_count": 21
        }
      ]
    },
    {
      "cell_type": "markdown",
      "metadata": {
        "id": "2AU1iFP_Fuq0",
        "colab_type": "text"
      },
      "source": [
        "#Relatório 7"
      ]
    },
    {
      "cell_type": "markdown",
      "metadata": {
        "id": "rafXW4u0FuKe",
        "colab_type": "text"
      },
      "source": [
        "###Objetivo: Quantificar o número de Lixeiras Inteligentes por bairro\n"
      ]
    },
    {
      "cell_type": "markdown",
      "metadata": {
        "id": "vzwfFzDC6jg2",
        "colab_type": "text"
      },
      "source": [
        "Código para obtenção do resultado:\n"
      ]
    },
    {
      "cell_type": "code",
      "metadata": {
        "id": "zO58bAuf47ga",
        "colab_type": "code",
        "colab": {}
      },
      "source": [
        "relat7 = pd.read_sql_query(\"\"\"SELECT \n",
        "                                count(*) as numero_de_lixeiras,\n",
        "                                BAIRRO.nome as bairro\n",
        "                              FROM BAIRRO INNER JOIN LIXEIRA ON (BAIRRO.cod_bairro = LIXEIRA.cod_bairro)\n",
        "                              GROUP BY BAIRRO.nome;\n",
        "                              \"\"\", conn)"
      ],
      "execution_count": 0,
      "outputs": []
    },
    {
      "cell_type": "code",
      "metadata": {
        "id": "kgdwhpIb5J_3",
        "colab_type": "code",
        "outputId": "2da8d60c-e974-49da-d19d-97b2985a55d2",
        "colab": {
          "base_uri": "https://localhost:8080/",
          "height": 235
        }
      },
      "source": [
        "relat7"
      ],
      "execution_count": 147,
      "outputs": [
        {
          "output_type": "execute_result",
          "data": {
            "text/html": [
              "<div>\n",
              "<style scoped>\n",
              "    .dataframe tbody tr th:only-of-type {\n",
              "        vertical-align: middle;\n",
              "    }\n",
              "\n",
              "    .dataframe tbody tr th {\n",
              "        vertical-align: top;\n",
              "    }\n",
              "\n",
              "    .dataframe thead th {\n",
              "        text-align: right;\n",
              "    }\n",
              "</style>\n",
              "<table border=\"1\" class=\"dataframe\">\n",
              "  <thead>\n",
              "    <tr style=\"text-align: right;\">\n",
              "      <th></th>\n",
              "      <th>numero_de_lixeiras</th>\n",
              "      <th>bairro</th>\n",
              "    </tr>\n",
              "  </thead>\n",
              "  <tbody>\n",
              "    <tr>\n",
              "      <th>0</th>\n",
              "      <td>6</td>\n",
              "      <td>Grande Goiabeiras</td>\n",
              "    </tr>\n",
              "    <tr>\n",
              "      <th>1</th>\n",
              "      <td>5</td>\n",
              "      <td>Centro de Vitória</td>\n",
              "    </tr>\n",
              "    <tr>\n",
              "      <th>2</th>\n",
              "      <td>5</td>\n",
              "      <td>Carapina</td>\n",
              "    </tr>\n",
              "    <tr>\n",
              "      <th>3</th>\n",
              "      <td>5</td>\n",
              "      <td>Colina de Laranjeiras</td>\n",
              "    </tr>\n",
              "    <tr>\n",
              "      <th>4</th>\n",
              "      <td>5</td>\n",
              "      <td>Jardim da Penha</td>\n",
              "    </tr>\n",
              "    <tr>\n",
              "      <th>5</th>\n",
              "      <td>4</td>\n",
              "      <td>Porto de Santana</td>\n",
              "    </tr>\n",
              "  </tbody>\n",
              "</table>\n",
              "</div>"
            ],
            "text/plain": [
              "   numero_de_lixeiras                 bairro\n",
              "0                   6      Grande Goiabeiras\n",
              "1                   5      Centro de Vitória\n",
              "2                   5               Carapina\n",
              "3                   5  Colina de Laranjeiras\n",
              "4                   5        Jardim da Penha\n",
              "5                   4       Porto de Santana"
            ]
          },
          "metadata": {
            "tags": []
          },
          "execution_count": 147
        }
      ]
    },
    {
      "cell_type": "code",
      "metadata": {
        "id": "NLWqtoYZ7EHZ",
        "colab_type": "code",
        "outputId": "c9946d93-8496-4044-d1fd-a201ea4e4163",
        "colab": {
          "base_uri": "https://localhost:8080/",
          "height": 542
        }
      },
      "source": [
        "df = relat7\n",
        "\n",
        "sns.catplot(x=\"numero_de_lixeiras\", y=\"bairro\",\n",
        "                data=df, saturation=.5,\n",
        "                kind=\"bar\", ci=None, aspect=.8, palette= \"Paired\")\n",
        "plt.xlabel('Numero de Lixeiras Inteligentes')\n",
        "plt.title('Quantidade de Lixeiras Inteligentes por bairro')"
      ],
      "execution_count": 148,
      "outputs": [
        {
          "output_type": "execute_result",
          "data": {
            "text/plain": [
              "Text(0.5, 1.0, 'Quantidade de Lixeiras Inteligentes por bairro')"
            ]
          },
          "metadata": {
            "tags": []
          },
          "execution_count": 148
        },
        {
          "output_type": "display_data",
          "data": {
            "image/png": "[encoded data removed]",
            "text/plain": [
              "<Figure size 400x500 with 1 Axes>"
            ]
          },
          "metadata": {
            "tags": []
          }
        }
      ]
    },
    {
      "cell_type": "markdown",
      "metadata": {
        "id": "qNBtepFNCohP",
        "colab_type": "text"
      },
      "source": [
        "####O gráfico mostra a quantidade de Lixeiras Inteligentes por bairro. É possível identificar que Grande Goiabeiras é o bairro com maior número de lixeiras inteligentes com um total de 6 e Porto de Santana é o lanterninha com 4. Os demais bairros apresentam 5 lixeiras cadastradas."
      ]
    },
    {
      "cell_type": "markdown",
      "metadata": {
        "id": "pPu2pRKAs5iq",
        "colab_type": "text"
      },
      "source": [
        "#Relatório 8\n"
      ]
    },
    {
      "cell_type": "markdown",
      "metadata": {
        "id": "UF0gWinAs-Ab",
        "colab_type": "text"
      },
      "source": [
        "##Objetivo: Identificar o volume atual das lixeiras com lixo.\n"
      ]
    },
    {
      "cell_type": "markdown",
      "metadata": {
        "id": "CSSKzspu6np1",
        "colab_type": "text"
      },
      "source": [
        "Código para obtenção do resultado:\n"
      ]
    },
    {
      "cell_type": "code",
      "metadata": {
        "id": "eZs85LFMTSK5",
        "colab_type": "code",
        "colab": {}
      },
      "source": [
        "relat8 = pd.read_sql_query(\"\"\"SELECT lixeira.cod_lixeira,\n",
        "                                  SUM(descarte.volume) AS somavolume,\n",
        "                                  lixeira.capacidade, \n",
        "                                  (SUM(descarte.volume)/lixeira.capacidade) as nivel_Atual,\n",
        "                                bairro.nome as bairro FROM lixeira\n",
        "                                INNER JOIN descarte ON (lixeira.cod_lixeira = descarte.cod_lixeira)\n",
        "                                INNER JOIN coleta ON (descarte.cod_lixeira = coleta.cod_lixeira)\n",
        "                                INNER JOIN bairro ON (bairro.cod_bairro = lixeira.cod_bairro)\n",
        "                                WHERE descarte.data_descarte > coleta.data_coleta \n",
        "                                OR (descarte.data_descarte = coleta.data_coleta AND descarte.hora_descarte > coleta.hora_coleta)\n",
        "                                GROUP BY lixeira.cod_lixeira, lixeira.capacidade, bairro\n",
        "                                ORDER BY lixeira.cod_lixeira\n",
        "                              \"\"\", conn)"
      ],
      "execution_count": 0,
      "outputs": []
    },
    {
      "cell_type": "code",
      "metadata": {
        "id": "fxZPdwIQT8UO",
        "colab_type": "code",
        "outputId": "e9244779-997d-414f-d60a-762202982a7c",
        "colab": {
          "base_uri": "https://localhost:8080/",
          "height": 452
        }
      },
      "source": [
        "relat8"
      ],
      "execution_count": 150,
      "outputs": [
        {
          "output_type": "execute_result",
          "data": {
            "text/html": [
              "<div>\n",
              "<style scoped>\n",
              "    .dataframe tbody tr th:only-of-type {\n",
              "        vertical-align: middle;\n",
              "    }\n",
              "\n",
              "    .dataframe tbody tr th {\n",
              "        vertical-align: top;\n",
              "    }\n",
              "\n",
              "    .dataframe thead th {\n",
              "        text-align: right;\n",
              "    }\n",
              "</style>\n",
              "<table border=\"1\" class=\"dataframe\">\n",
              "  <thead>\n",
              "    <tr style=\"text-align: right;\">\n",
              "      <th></th>\n",
              "      <th>cod_lixeira</th>\n",
              "      <th>somavolume</th>\n",
              "      <th>capacidade</th>\n",
              "      <th>nivel_atual</th>\n",
              "      <th>bairro</th>\n",
              "    </tr>\n",
              "  </thead>\n",
              "  <tbody>\n",
              "    <tr>\n",
              "      <th>0</th>\n",
              "      <td>1</td>\n",
              "      <td>97.400000</td>\n",
              "      <td>160.0</td>\n",
              "      <td>0.608750</td>\n",
              "      <td>Grande Goiabeiras</td>\n",
              "    </tr>\n",
              "    <tr>\n",
              "      <th>1</th>\n",
              "      <td>2</td>\n",
              "      <td>57.000000</td>\n",
              "      <td>200.0</td>\n",
              "      <td>0.285000</td>\n",
              "      <td>Grande Goiabeiras</td>\n",
              "    </tr>\n",
              "    <tr>\n",
              "      <th>2</th>\n",
              "      <td>3</td>\n",
              "      <td>41.200000</td>\n",
              "      <td>205.0</td>\n",
              "      <td>0.200976</td>\n",
              "      <td>Grande Goiabeiras</td>\n",
              "    </tr>\n",
              "    <tr>\n",
              "      <th>3</th>\n",
              "      <td>4</td>\n",
              "      <td>115.700000</td>\n",
              "      <td>186.0</td>\n",
              "      <td>0.622043</td>\n",
              "      <td>Grande Goiabeiras</td>\n",
              "    </tr>\n",
              "    <tr>\n",
              "      <th>4</th>\n",
              "      <td>5</td>\n",
              "      <td>15.000000</td>\n",
              "      <td>100.0</td>\n",
              "      <td>0.150000</td>\n",
              "      <td>Grande Goiabeiras</td>\n",
              "    </tr>\n",
              "    <tr>\n",
              "      <th>5</th>\n",
              "      <td>6</td>\n",
              "      <td>82.200000</td>\n",
              "      <td>100.0</td>\n",
              "      <td>0.822000</td>\n",
              "      <td>Grande Goiabeiras</td>\n",
              "    </tr>\n",
              "    <tr>\n",
              "      <th>6</th>\n",
              "      <td>7</td>\n",
              "      <td>37.000000</td>\n",
              "      <td>100.0</td>\n",
              "      <td>0.370000</td>\n",
              "      <td>Centro de Vitória</td>\n",
              "    </tr>\n",
              "    <tr>\n",
              "      <th>7</th>\n",
              "      <td>9</td>\n",
              "      <td>40.000000</td>\n",
              "      <td>120.0</td>\n",
              "      <td>0.333333</td>\n",
              "      <td>Centro de Vitória</td>\n",
              "    </tr>\n",
              "    <tr>\n",
              "      <th>8</th>\n",
              "      <td>10</td>\n",
              "      <td>66.666667</td>\n",
              "      <td>200.0</td>\n",
              "      <td>0.333333</td>\n",
              "      <td>Centro de Vitória</td>\n",
              "    </tr>\n",
              "    <tr>\n",
              "      <th>9</th>\n",
              "      <td>12</td>\n",
              "      <td>21.666667</td>\n",
              "      <td>120.0</td>\n",
              "      <td>0.180556</td>\n",
              "      <td>Colina de Laranjeiras</td>\n",
              "    </tr>\n",
              "    <tr>\n",
              "      <th>10</th>\n",
              "      <td>16</td>\n",
              "      <td>14.000000</td>\n",
              "      <td>200.0</td>\n",
              "      <td>0.070000</td>\n",
              "      <td>Colina de Laranjeiras</td>\n",
              "    </tr>\n",
              "    <tr>\n",
              "      <th>11</th>\n",
              "      <td>17</td>\n",
              "      <td>15.100000</td>\n",
              "      <td>300.0</td>\n",
              "      <td>0.050333</td>\n",
              "      <td>Porto de Santana</td>\n",
              "    </tr>\n",
              "    <tr>\n",
              "      <th>12</th>\n",
              "      <td>22</td>\n",
              "      <td>5.100000</td>\n",
              "      <td>110.0</td>\n",
              "      <td>0.046364</td>\n",
              "      <td>Carapina</td>\n",
              "    </tr>\n",
              "  </tbody>\n",
              "</table>\n",
              "</div>"
            ],
            "text/plain": [
              "    cod_lixeira  somavolume  capacidade  nivel_atual                 bairro\n",
              "0             1   97.400000       160.0     0.608750      Grande Goiabeiras\n",
              "1             2   57.000000       200.0     0.285000      Grande Goiabeiras\n",
              "2             3   41.200000       205.0     0.200976      Grande Goiabeiras\n",
              "3             4  115.700000       186.0     0.622043      Grande Goiabeiras\n",
              "4             5   15.000000       100.0     0.150000      Grande Goiabeiras\n",
              "5             6   82.200000       100.0     0.822000      Grande Goiabeiras\n",
              "6             7   37.000000       100.0     0.370000      Centro de Vitória\n",
              "7             9   40.000000       120.0     0.333333      Centro de Vitória\n",
              "8            10   66.666667       200.0     0.333333      Centro de Vitória\n",
              "9            12   21.666667       120.0     0.180556  Colina de Laranjeiras\n",
              "10           16   14.000000       200.0     0.070000  Colina de Laranjeiras\n",
              "11           17   15.100000       300.0     0.050333       Porto de Santana\n",
              "12           22    5.100000       110.0     0.046364               Carapina"
            ]
          },
          "metadata": {
            "tags": []
          },
          "execution_count": 150
        }
      ]
    },
    {
      "cell_type": "code",
      "metadata": {
        "id": "W2YI-zR4bhfc",
        "colab_type": "code",
        "outputId": "7d9b0330-1b60-4103-e87a-948bcb9c045c",
        "colab": {
          "base_uri": "https://localhost:8080/",
          "height": 543
        }
      },
      "source": [
        "df = relat8;\n",
        "\n",
        "current_palette = sns.color_palette()\n",
        "\n",
        "sns.catplot(x=\"cod_lixeira\", y=\"nivel_atual\",\n",
        "                data=df, saturation=.5,\n",
        "                kind=\"bar\", ci=None, aspect=.8, palette= \"Paired\");\n",
        "plt.title('Preenchimento das lixeiras com lixo')\n",
        "plt.ylabel('Nível Atual (%)')\n",
        "plt.xlabel('Código da Lixeira')"
      ],
      "execution_count": 151,
      "outputs": [
        {
          "output_type": "execute_result",
          "data": {
            "text/plain": [
              "Text(0.5, 9.444444444444438, 'Código da Lixeira')"
            ]
          },
          "metadata": {
            "tags": []
          },
          "execution_count": 151
        },
        {
          "output_type": "display_data",
          "data": {
            "image/png": "[encoded data removed]",
            "text/plain": [
              "<Figure size 400x500 with 1 Axes>"
            ]
          },
          "metadata": {
            "tags": []
          }
        }
      ]
    },
    {
      "cell_type": "markdown",
      "metadata": {
        "id": "LdHKtL67Dfuz",
        "colab_type": "text"
      },
      "source": [
        "####O gráfico mostra o preenchimento atual em porcentagem das lixeiras com lixo. \n"
      ]
    },
    {
      "cell_type": "markdown",
      "metadata": {
        "id": "yOAovll_ctJe",
        "colab_type": "text"
      },
      "source": [
        "# Referencias"
      ]
    },
    {
      "cell_type": "markdown",
      "metadata": {
        "id": "xA06X9-bctJf",
        "colab_type": "text"
      },
      "source": [
        "https://pandas.pydata.org/pandas-docs/stable/style.html <br>\n",
        "https://pythonspot.com/matplotlib-bar-chart/<br>\n",
        "https://pandas.pydata.org/pandas-docs/stable/generated/pandas.DataFrame.loc.html <br>"
      ]
    }
  ]
}